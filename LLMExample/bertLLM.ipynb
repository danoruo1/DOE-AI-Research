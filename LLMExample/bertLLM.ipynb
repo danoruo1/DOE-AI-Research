{
  "cells": [
    {
      "cell_type": "markdown",
      "metadata": {
        "colab_type": "text",
        "id": "view-in-github"
      },
      "source": [
        "<a href=\"https://colab.research.google.com/github/danoruo1/DOE-AI-Research/blob/main/openaiLLM.ipynb\" target=\"_parent\"><img src=\"https://colab.research.google.com/assets/colab-badge.svg\" alt=\"Open In Colab\"/></a>"
      ]
    },
    {
      "cell_type": "markdown",
      "metadata": {
        "id": "IzCeXrTQ705I"
      },
      "source": [
        "### Importing Necessary Modules"
      ]
    },
    {
      "cell_type": "code",
      "execution_count": null,
      "metadata": {
        "id": "_AzR0YZP76p5"
      },
      "outputs": [
        {
          "name": "stdout",
          "output_type": "stream",
          "text": [
            "Defaulting to user installation because normal site-packages is not writeable\n",
            "Collecting openai\n",
            "  Downloading openai-1.99.9-py3-none-any.whl.metadata (29 kB)\n",
            "Requirement already satisfied: pandas in /home/daniel/.local/lib/python3.13/site-packages (2.2.3)\n",
            "Requirement already satisfied: kaggle in /home/daniel/.local/lib/python3.13/site-packages (1.7.4.5)\n",
            "Collecting anyio<5,>=3.5.0 (from openai)\n",
            "  Downloading anyio-4.10.0-py3-none-any.whl.metadata (4.0 kB)\n",
            "Requirement already satisfied: distro<2,>=1.7.0 in /usr/lib/python3.13/site-packages (from openai) (1.9.0)\n",
            "Collecting httpx<1,>=0.23.0 (from openai)\n",
            "  Downloading httpx-0.28.1-py3-none-any.whl.metadata (7.1 kB)\n",
            "Collecting jiter<1,>=0.4.0 (from openai)\n",
            "  Downloading jiter-0.10.0-cp313-cp313-manylinux_2_17_x86_64.manylinux2014_x86_64.whl.metadata (5.2 kB)\n",
            "Requirement already satisfied: pydantic<3,>=1.9.0 in /home/daniel/.local/lib/python3.13/site-packages (from openai) (2.11.2)\n",
            "Requirement already satisfied: sniffio in /home/daniel/.local/lib/python3.13/site-packages (from openai) (1.3.1)\n",
            "Requirement already satisfied: tqdm>4 in /home/daniel/.local/lib/python3.13/site-packages (from openai) (4.67.1)\n",
            "Requirement already satisfied: typing-extensions<5,>=4.11 in /home/daniel/.local/lib/python3.13/site-packages (from openai) (4.12.0)\n",
            "Requirement already satisfied: numpy>=1.26.0 in /home/daniel/.local/lib/python3.13/site-packages (from pandas) (1.26.4)\n",
            "Requirement already satisfied: python-dateutil>=2.8.2 in /usr/lib/python3.13/site-packages (from pandas) (2.8.2)\n",
            "Requirement already satisfied: pytz>=2020.1 in /home/daniel/.local/lib/python3.13/site-packages (from pandas) (2025.1)\n",
            "Requirement already satisfied: tzdata>=2022.7 in /home/daniel/.local/lib/python3.13/site-packages (from pandas) (2025.1)\n",
            "Requirement already satisfied: bleach in /home/daniel/.local/lib/python3.13/site-packages (from kaggle) (6.2.0)\n",
            "Requirement already satisfied: certifi>=14.05.14 in /home/daniel/.local/lib/python3.13/site-packages (from kaggle) (2025.1.31)\n",
            "Requirement already satisfied: charset-normalizer in /usr/lib/python3.13/site-packages (from kaggle) (3.3.2)\n",
            "Requirement already satisfied: idna in /usr/lib/python3.13/site-packages (from kaggle) (3.7)\n",
            "Requirement already satisfied: protobuf in /home/daniel/.local/lib/python3.13/site-packages (from kaggle) (3.20.3)\n",
            "Requirement already satisfied: python-slugify in /home/daniel/.local/lib/python3.13/site-packages (from kaggle) (8.0.4)\n",
            "Requirement already satisfied: requests in /usr/lib/python3.13/site-packages (from kaggle) (2.32.3)\n",
            "Requirement already satisfied: setuptools>=21.0.0 in /home/daniel/.local/lib/python3.13/site-packages (from kaggle) (78.1.0)\n",
            "Requirement already satisfied: six>=1.10 in /usr/lib/python3.13/site-packages (from kaggle) (1.16.0)\n",
            "Requirement already satisfied: text-unidecode in /home/daniel/.local/lib/python3.13/site-packages (from kaggle) (1.3)\n",
            "Requirement already satisfied: urllib3>=1.15.1 in /usr/lib/python3.13/site-packages (from kaggle) (1.26.20)\n",
            "Requirement already satisfied: webencodings in /usr/lib/python3.13/site-packages (from kaggle) (0.5.1)\n",
            "Collecting httpcore==1.* (from httpx<1,>=0.23.0->openai)\n",
            "  Downloading httpcore-1.0.9-py3-none-any.whl.metadata (21 kB)\n",
            "Collecting h11>=0.16 (from httpcore==1.*->httpx<1,>=0.23.0->openai)\n",
            "  Downloading h11-0.16.0-py3-none-any.whl.metadata (8.3 kB)\n",
            "Requirement already satisfied: annotated-types>=0.6.0 in /home/daniel/.local/lib/python3.13/site-packages (from pydantic<3,>=1.9.0->openai) (0.7.0)\n",
            "Requirement already satisfied: pydantic-core==2.33.1 in /home/daniel/.local/lib/python3.13/site-packages (from pydantic<3,>=1.9.0->openai) (2.33.1)\n",
            "Collecting typing-extensions<5,>=4.11 (from openai)\n",
            "  Downloading typing_extensions-4.14.1-py3-none-any.whl.metadata (3.0 kB)\n",
            "Requirement already satisfied: typing-inspection>=0.4.0 in /home/daniel/.local/lib/python3.13/site-packages (from pydantic<3,>=1.9.0->openai) (0.4.0)\n",
            "Downloading openai-1.99.9-py3-none-any.whl (786 kB)\n",
            "\u001b[2K   \u001b[90m━━━━━━━━━━━━━━━━━━━━━━━━━━━━━━━━━━━━━━━━\u001b[0m \u001b[32m786.8/786.8 kB\u001b[0m \u001b[31m18.7 MB/s\u001b[0m eta \u001b[36m0:00:00\u001b[0m\n",
            "\u001b[?25hDownloading anyio-4.10.0-py3-none-any.whl (107 kB)\n",
            "Downloading httpx-0.28.1-py3-none-any.whl (73 kB)\n",
            "Downloading httpcore-1.0.9-py3-none-any.whl (78 kB)\n",
            "Downloading jiter-0.10.0-cp313-cp313-manylinux_2_17_x86_64.manylinux2014_x86_64.whl (350 kB)\n",
            "Downloading typing_extensions-4.14.1-py3-none-any.whl (43 kB)\n",
            "Downloading h11-0.16.0-py3-none-any.whl (37 kB)\n",
            "Installing collected packages: typing-extensions, jiter, h11, anyio, httpcore, httpx, openai\n",
            "  Attempting uninstall: typing-extensions\n",
            "    Found existing installation: typing_extensions 4.12.0\n",
            "    Uninstalling typing_extensions-4.12.0:\n",
            "      Successfully uninstalled typing_extensions-4.12.0\n",
            "  Attempting uninstall: h11\n",
            "    Found existing installation: h11 0.14.0\n",
            "    Uninstalling h11-0.14.0:\n",
            "      Successfully uninstalled h11-0.14.0\n",
            "Successfully installed anyio-4.10.0 h11-0.16.0 httpcore-1.0.9 httpx-0.28.1 jiter-0.10.0 openai-1.99.9 typing-extensions-4.14.1\n"
          ]
        }
      ],
      "source": [
        "#!pip install openai pandas kaggle pytorch torch torchvision"
      ]
    },
    {
      "cell_type": "markdown",
      "metadata": {
        "id": "7zlsxsM_787v"
      },
      "source": [
        "### Importing Modules"
      ]
    },
    {
      "cell_type": "code",
      "execution_count": 3,
      "metadata": {
        "id": "fYhYaQej8BzU"
      },
      "outputs": [],
      "source": [
        "import os\n",
        "import sys\n",
        "import openai\n",
        "import kaggle\n"
      ]
    },
    {
      "cell_type": "markdown",
      "metadata": {
        "id": "PNogyBwB8CZX"
      },
      "source": [
        "### Load Data "
      ]
    },
    {
      "cell_type": "code",
      "execution_count": null,
      "metadata": {
        "id": "vtE7h5Cj8D7O"
      },
      "outputs": [],
      "source": [
        "data = \"Fragments/\" #\n",
        "files = os.listdir(data) #"
      ]
    },
    {
      "cell_type": "markdown",
      "metadata": {},
      "source": [
        "### Data Preprocessing and Generating Labels"
      ]
    },
    {
      "cell_type": "code",
      "execution_count": null,
      "metadata": {},
      "outputs": [
        {
          "data": {
            "text/plain": [
              "{'BMP', 'BPG', 'FLIF', 'GIF', 'JPEG', 'JPF', 'JXR', 'PNG', 'TIF', 'WEBP'}"
            ]
          },
          "execution_count": 22,
          "metadata": {},
          "output_type": "execute_result"
        }
      ],
      "source": [
        "labels = set()\n",
        "for file in files: #Removing Numbers from file\n",
        "    file = \"\".join([c for c in file if not c.isdigit()])\n",
        "    pos = file.find(\".\")\n",
        "    labels.add(file[:pos])\n",
        "labels"
      ]
    },
    {
      "cell_type": "markdown",
      "metadata": {},
      "source": [
        "### Define Training and Testing Sets"
      ]
    },
    {
      "cell_type": "code",
      "execution_count": 25,
      "metadata": {},
      "outputs": [],
      "source": [
        "if \"Training\" not in sorted(os.listdir(data)): os.makedirs(data+\"Training/\")\n",
        "if \"Testing\" not in sorted(os.listdir(data)): os.makedirs(data+\"Testing/\")\n",
        "\n",
        "for i in labels:\n",
        "    os.makedirs(data+\"Training/\"+i)\n",
        "    os.makedirs(data+\"Testing/\"+i)"
      ]
    },
    {
      "cell_type": "markdown",
      "metadata": {},
      "source": [
        "### Split Data into Training and Testing"
      ]
    },
    {
      "cell_type": "code",
      "execution_count": null,
      "metadata": {},
      "outputs": [
        {
          "data": {
            "text/plain": [
              "['PNG4.dat',\n",
              " 'BPG2.dat',\n",
              " 'GIF1.dat',\n",
              " 'JPEG3.dat',\n",
              " 'GIF2.dat',\n",
              " 'JPEG1.dat',\n",
              " 'JPEG4.dat',\n",
              " 'JPF3.dat',\n",
              " 'JXR4.dat',\n",
              " 'PNG2.dat',\n",
              " 'JXR1.dat',\n",
              " 'JXR2.dat',\n",
              " 'BMP1.dat',\n",
              " 'BMP2.dat',\n",
              " 'BMP3.dat',\n",
              " 'BPG3.dat',\n",
              " 'TIF2.dat',\n",
              " 'WEBP2.dat',\n",
              " 'PNG1.dat',\n",
              " 'PNG3.dat',\n",
              " 'TIF1.dat',\n",
              " 'JPF1.dat',\n",
              " 'JPF4.dat',\n",
              " 'WEBP1.dat',\n",
              " 'WEBP3.dat',\n",
              " 'BPG4.dat',\n",
              " 'FLIF.dat',\n",
              " 'JPEG2.dat',\n",
              " 'JXR3.dat',\n",
              " 'WEBP4.dat',\n",
              " 'BPG1.dat',\n",
              " 'JPF2.dat',\n",
              " 'Training',\n",
              " 'Testing']"
            ]
          },
          "execution_count": 28,
          "metadata": {},
          "output_type": "execute_result"
        }
      ],
      "source": [
        "len(['PNG4.dat',\n",
        " 'BPG2.dat',\n",
        " 'GIF1.dat',\n",
        " 'JPEG3.dat',\n",
        " 'GIF2.dat',\n",
        " 'JPEG1.dat',\n",
        " 'JPEG4.dat',\n",
        " 'JPF3.dat',\n",
        " 'JXR4.dat',\n",
        " 'PNG2.dat',\n",
        " 'JXR1.dat',\n",
        " 'JXR2.dat',\n",
        " 'BMP1.dat',\n",
        " 'BMP2.dat',\n",
        " 'BMP3.dat',\n",
        " 'BPG3.dat',\n",
        " 'TIF2.dat',\n",
        " 'WEBP2.dat',\n",
        " 'PNG1.dat',\n",
        " 'PNG3.dat',\n",
        " 'TIF1.dat',\n",
        " 'JPF1.dat',\n",
        " 'JPF4.dat',\n",
        " 'WEBP1.dat',\n",
        " 'WEBP3.dat',\n",
        " 'BPG4.dat',\n",
        " 'FLIF.dat',\n",
        " 'JPEG2.dat',\n",
        " 'JXR3.dat',\n",
        " 'WEBP4.dat',\n",
        " 'BPG1.dat',\n",
        " 'JPF2.dat',])"
      ]
    },
    {
      "cell_type": "markdown",
      "metadata": {
        "id": "3Z6-Cvys8Fhz"
      },
      "source": [
        "### Initialize LLM"
      ]
    },
    {
      "cell_type": "code",
      "execution_count": null,
      "metadata": {
        "id": "2Jcf-yQ48I0a"
      },
      "outputs": [],
      "source": []
    },
    {
      "cell_type": "markdown",
      "metadata": {
        "id": "pDlzE49v8Jb6"
      },
      "source": [
        "### Prompt the LLM"
      ]
    },
    {
      "cell_type": "code",
      "execution_count": null,
      "metadata": {
        "id": "vkblu3ld8O7j"
      },
      "outputs": [],
      "source": []
    }
  ],
  "metadata": {
    "colab": {
      "authorship_tag": "ABX9TyPG9O89lqOyyzNBn36BTmim",
      "include_colab_link": true,
      "provenance": []
    },
    "kernelspec": {
      "display_name": "Python 3",
      "name": "python3"
    },
    "language_info": {
      "codemirror_mode": {
        "name": "ipython",
        "version": 3
      },
      "file_extension": ".py",
      "mimetype": "text/x-python",
      "name": "python",
      "nbconvert_exporter": "python",
      "pygments_lexer": "ipython3",
      "version": "3.13.2"
    }
  },
  "nbformat": 4,
  "nbformat_minor": 0
}
