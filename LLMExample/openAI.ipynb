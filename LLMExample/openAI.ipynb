{
 "cells": [
  {
   "cell_type": "markdown",
   "metadata": {},
   "source": [
    "# Using GPT For File Fragment Classification"
   ]
  },
  {
   "cell_type": "markdown",
   "metadata": {},
   "source": [
    "### Download Libraries"
   ]
  },
  {
   "cell_type": "code",
   "execution_count": 2,
   "metadata": {},
   "outputs": [
    {
     "name": "stdout",
     "output_type": "stream",
     "text": [
      "Requirement already satisfied: openai in /home/daniel/.local/lib/python3.13/site-packages (1.99.9)\n",
      "Requirement already satisfied: scikit-learn in /home/daniel/.local/lib/python3.13/site-packages (1.6.1)\n",
      "Requirement already satisfied: pandas in /home/daniel/.local/lib/python3.13/site-packages (2.2.3)\n",
      "Requirement already satisfied: numpy in /home/daniel/.local/lib/python3.13/site-packages (2.3.2)\n",
      "Requirement already satisfied: matplotlib in /home/daniel/.local/lib/python3.13/site-packages (3.10.1)\n",
      "Requirement already satisfied: torch in /home/daniel/.local/lib/python3.13/site-packages (2.7.0)\n",
      "Requirement already satisfied: torchvision in /home/daniel/.local/lib/python3.13/site-packages (0.22.0)\n",
      "Requirement already satisfied: scipy in /home/daniel/.local/lib/python3.13/site-packages (1.15.2)\n",
      "Requirement already satisfied: seaborn in /home/daniel/.local/lib/python3.13/site-packages (0.13.2)\n",
      "Collecting kagglehub\n",
      "  Downloading kagglehub-0.3.12-py3-none-any.whl.metadata (38 kB)\n",
      "Requirement already satisfied: anyio<5,>=3.5.0 in /home/daniel/.local/lib/python3.13/site-packages (from openai) (4.10.0)\n",
      "Requirement already satisfied: distro<2,>=1.7.0 in /home/daniel/miniconda3/lib/python3.13/site-packages (from openai) (1.9.0)\n",
      "Requirement already satisfied: httpx<1,>=0.23.0 in /home/daniel/.local/lib/python3.13/site-packages (from openai) (0.28.1)\n",
      "Requirement already satisfied: jiter<1,>=0.4.0 in /home/daniel/.local/lib/python3.13/site-packages (from openai) (0.10.0)\n",
      "Requirement already satisfied: pydantic<3,>=1.9.0 in /home/daniel/.local/lib/python3.13/site-packages (from openai) (2.11.2)\n",
      "Requirement already satisfied: sniffio in /home/daniel/.local/lib/python3.13/site-packages (from openai) (1.3.1)\n",
      "Requirement already satisfied: tqdm>4 in /home/daniel/.local/lib/python3.13/site-packages (from openai) (4.67.1)\n",
      "Requirement already satisfied: typing-extensions<5,>=4.11 in /home/daniel/.local/lib/python3.13/site-packages (from openai) (4.14.1)\n",
      "Requirement already satisfied: joblib>=1.2.0 in /home/daniel/.local/lib/python3.13/site-packages (from scikit-learn) (1.5.0)\n",
      "Requirement already satisfied: threadpoolctl>=3.1.0 in /home/daniel/.local/lib/python3.13/site-packages (from scikit-learn) (3.6.0)\n",
      "Requirement already satisfied: python-dateutil>=2.8.2 in /home/daniel/miniconda3/lib/python3.13/site-packages (from pandas) (2.9.0.post0)\n",
      "Requirement already satisfied: pytz>=2020.1 in /home/daniel/.local/lib/python3.13/site-packages (from pandas) (2025.1)\n",
      "Requirement already satisfied: tzdata>=2022.7 in /home/daniel/.local/lib/python3.13/site-packages (from pandas) (2025.1)\n",
      "Requirement already satisfied: contourpy>=1.0.1 in /home/daniel/.local/lib/python3.13/site-packages (from matplotlib) (1.3.2)\n",
      "Requirement already satisfied: cycler>=0.10 in /home/daniel/.local/lib/python3.13/site-packages (from matplotlib) (0.12.1)\n",
      "Requirement already satisfied: fonttools>=4.22.0 in /home/daniel/.local/lib/python3.13/site-packages (from matplotlib) (4.57.0)\n",
      "Requirement already satisfied: kiwisolver>=1.3.1 in /home/daniel/.local/lib/python3.13/site-packages (from matplotlib) (1.4.8)\n",
      "Requirement already satisfied: packaging>=20.0 in /home/daniel/miniconda3/lib/python3.13/site-packages (from matplotlib) (24.2)\n",
      "Requirement already satisfied: pillow>=8 in /home/daniel/miniconda3/lib/python3.13/site-packages (from matplotlib) (11.2.1)\n",
      "Requirement already satisfied: pyparsing>=2.3.1 in /home/daniel/.local/lib/python3.13/site-packages (from matplotlib) (3.2.3)\n",
      "Requirement already satisfied: filelock in /home/daniel/.local/lib/python3.13/site-packages (from torch) (3.18.0)\n",
      "Requirement already satisfied: setuptools in /home/daniel/.local/lib/python3.13/site-packages (from torch) (78.1.0)\n",
      "Requirement already satisfied: sympy>=1.13.3 in /home/daniel/.local/lib/python3.13/site-packages (from torch) (1.14.0)\n",
      "Requirement already satisfied: networkx in /home/daniel/.local/lib/python3.13/site-packages (from torch) (3.4.2)\n",
      "Requirement already satisfied: jinja2 in /home/daniel/.local/lib/python3.13/site-packages (from torch) (3.1.6)\n",
      "Requirement already satisfied: fsspec in /home/daniel/.local/lib/python3.13/site-packages (from torch) (2025.3.2)\n",
      "Requirement already satisfied: nvidia-cuda-nvrtc-cu12==12.6.77 in /home/daniel/.local/lib/python3.13/site-packages (from torch) (12.6.77)\n",
      "Requirement already satisfied: nvidia-cuda-runtime-cu12==12.6.77 in /home/daniel/.local/lib/python3.13/site-packages (from torch) (12.6.77)\n",
      "Requirement already satisfied: nvidia-cuda-cupti-cu12==12.6.80 in /home/daniel/.local/lib/python3.13/site-packages (from torch) (12.6.80)\n",
      "Requirement already satisfied: nvidia-cudnn-cu12==9.5.1.17 in /home/daniel/.local/lib/python3.13/site-packages (from torch) (9.5.1.17)\n",
      "Requirement already satisfied: nvidia-cublas-cu12==12.6.4.1 in /home/daniel/.local/lib/python3.13/site-packages (from torch) (12.6.4.1)\n",
      "Requirement already satisfied: nvidia-cufft-cu12==11.3.0.4 in /home/daniel/.local/lib/python3.13/site-packages (from torch) (11.3.0.4)\n",
      "Requirement already satisfied: nvidia-curand-cu12==10.3.7.77 in /home/daniel/.local/lib/python3.13/site-packages (from torch) (10.3.7.77)\n",
      "Requirement already satisfied: nvidia-cusolver-cu12==11.7.1.2 in /home/daniel/.local/lib/python3.13/site-packages (from torch) (11.7.1.2)\n",
      "Requirement already satisfied: nvidia-cusparse-cu12==12.5.4.2 in /home/daniel/.local/lib/python3.13/site-packages (from torch) (12.5.4.2)\n",
      "Requirement already satisfied: nvidia-cusparselt-cu12==0.6.3 in /home/daniel/.local/lib/python3.13/site-packages (from torch) (0.6.3)\n",
      "Requirement already satisfied: nvidia-nccl-cu12==2.26.2 in /home/daniel/.local/lib/python3.13/site-packages (from torch) (2.26.2)\n",
      "Requirement already satisfied: nvidia-nvtx-cu12==12.6.77 in /home/daniel/.local/lib/python3.13/site-packages (from torch) (12.6.77)\n",
      "Requirement already satisfied: nvidia-nvjitlink-cu12==12.6.85 in /home/daniel/.local/lib/python3.13/site-packages (from torch) (12.6.85)\n",
      "Requirement already satisfied: nvidia-cufile-cu12==1.11.1.6 in /home/daniel/.local/lib/python3.13/site-packages (from torch) (1.11.1.6)\n",
      "Requirement already satisfied: triton==3.3.0 in /home/daniel/.local/lib/python3.13/site-packages (from torch) (3.3.0)\n",
      "Requirement already satisfied: pyyaml in /home/daniel/miniconda3/lib/python3.13/site-packages (from kagglehub) (6.0.2)\n",
      "Requirement already satisfied: requests in /home/daniel/miniconda3/lib/python3.13/site-packages (from kagglehub) (2.32.3)\n",
      "Requirement already satisfied: idna>=2.8 in /home/daniel/miniconda3/lib/python3.13/site-packages (from anyio<5,>=3.5.0->openai) (3.7)\n",
      "Requirement already satisfied: certifi in /home/daniel/.local/lib/python3.13/site-packages (from httpx<1,>=0.23.0->openai) (2025.1.31)\n",
      "Requirement already satisfied: httpcore==1.* in /home/daniel/.local/lib/python3.13/site-packages (from httpx<1,>=0.23.0->openai) (1.0.9)\n",
      "Requirement already satisfied: h11>=0.16 in /home/daniel/.local/lib/python3.13/site-packages (from httpcore==1.*->httpx<1,>=0.23.0->openai) (0.16.0)\n",
      "Requirement already satisfied: annotated-types>=0.6.0 in /home/daniel/.local/lib/python3.13/site-packages (from pydantic<3,>=1.9.0->openai) (0.7.0)\n",
      "Requirement already satisfied: pydantic-core==2.33.1 in /home/daniel/.local/lib/python3.13/site-packages (from pydantic<3,>=1.9.0->openai) (2.33.1)\n",
      "Requirement already satisfied: typing-inspection>=0.4.0 in /home/daniel/.local/lib/python3.13/site-packages (from pydantic<3,>=1.9.0->openai) (0.4.0)\n",
      "Requirement already satisfied: six>=1.5 in /home/daniel/miniconda3/lib/python3.13/site-packages (from python-dateutil>=2.8.2->pandas) (1.17.0)\n",
      "Requirement already satisfied: mpmath<1.4,>=1.1.0 in /home/daniel/.local/lib/python3.13/site-packages (from sympy>=1.13.3->torch) (1.3.0)\n",
      "Requirement already satisfied: MarkupSafe>=2.0 in /home/daniel/.local/lib/python3.13/site-packages (from jinja2->torch) (3.0.2)\n",
      "Requirement already satisfied: charset-normalizer<4,>=2 in /home/daniel/miniconda3/lib/python3.13/site-packages (from requests->kagglehub) (3.3.2)\n",
      "Requirement already satisfied: urllib3<3,>=1.21.1 in /home/daniel/miniconda3/lib/python3.13/site-packages (from requests->kagglehub) (2.3.0)\n",
      "Downloading kagglehub-0.3.12-py3-none-any.whl (67 kB)\n",
      "Installing collected packages: kagglehub\n",
      "Successfully installed kagglehub-0.3.12\n"
     ]
    }
   ],
   "source": [
    "!pip install openai scikit-learn pandas numpy matplotlib torch torchvision scipy seaborn kagglehub"
   ]
  },
  {
   "cell_type": "markdown",
   "metadata": {},
   "source": [
    "### Import Necessary Libraries"
   ]
  },
  {
   "cell_type": "code",
   "execution_count": 3,
   "metadata": {},
   "outputs": [],
   "source": [
    "import openai\n",
    "import os \n",
    "import pandas as pd\n",
    "import torch\n",
    "from torch.utils.data import Dataset, DataLoader\n",
    "from sklearn.model_selection import train_test_split\n",
    "from sklearn.metrics import accuracy_score, classification_report"
   ]
  },
  {
   "cell_type": "markdown",
   "metadata": {},
   "source": [
    "### Download Dataset"
   ]
  },
  {
   "cell_type": "code",
   "execution_count": null,
   "metadata": {},
   "outputs": [
    {
     "name": "stdout",
     "output_type": "stream",
     "text": [
      "\n",
      "[Training] Summary: kept_in_place=31, moved_to_legacy=0, moved_to_modern=0, unknown=0\n",
      "\n",
      "\n",
      "[Testing] Summary: kept_in_place=0, moved_to_legacy=0, moved_to_modern=0, unknown=0\n",
      "\n"
     ]
    }
   ],
   "source": [
    "import os, shutil, random\n",
    "from pathlib import Path\n",
    "\n",
    "# --- config ---\n",
    "base_dir = Path(\"../Fragments\")\n",
    "splits = [\"Training\", \"Testing\"]\n",
    "ratio = 0.25  # 25% to Testing\n",
    "consider_exts = {\".dat\"}\n",
    "# --------------\n",
    "\n",
    "train_dir = base_dir / \"Training\"\n",
    "test_dir = base_dir / \"Testing\"\n",
    "\n",
    "# Ensure Testing subfolders exist\n",
    "for sub in [\"Legacy\", \"Modern\"]:\n",
    "    (test_dir / sub).mkdir(parents=True, exist_ok=True)\n",
    "\n",
    "moved_total = 0\n",
    "\n",
    "# Loop over Legacy and Modern separately so balance is kept\n",
    "for sub in [\"Legacy\", \"Modern\"]:\n",
    "    src_dir = train_dir / sub\n",
    "    dst_dir = test_dir / sub\n",
    "\n",
    "    files = [f for f in os.listdir(src_dir) if Path(f).suffix.lower() in consider_exts]\n",
    "    n_move = int(len(files) * ratio)\n",
    "\n",
    "    # Randomly sample which files to move\n",
    "    to_move = random.sample(files, n_move)\n",
    "\n",
    "    for fname in to_move:\n",
    "        shutil.move(str(src_dir / fname), str(dst_dir / fname))\n",
    "        moved_total += 1\n",
    "        print(f\"Moved {fname} from Training/{sub} → Testing/{sub}\")\n",
    "\n",
    "    print(f\"{sub}: moved {n_move} of {len(files)} files.\")\n",
    "\n",
    "print(f\"\\nTotal moved: {moved_total}\")\n"
   ]
  }
 ],
 "metadata": {
  "kernelspec": {
   "display_name": "base",
   "language": "python",
   "name": "python3"
  },
  "language_info": {
   "codemirror_mode": {
    "name": "ipython",
    "version": 3
   },
   "file_extension": ".py",
   "mimetype": "text/x-python",
   "name": "python",
   "nbconvert_exporter": "python",
   "pygments_lexer": "ipython3",
   "version": "3.13.2"
  }
 },
 "nbformat": 4,
 "nbformat_minor": 2
}
