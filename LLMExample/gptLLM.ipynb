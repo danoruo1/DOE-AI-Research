{
 "cells": [
  {
   "cell_type": "markdown",
   "metadata": {},
   "source": [
    "# FragGPT, utilizing GPT for File Fragment Identification"
   ]
  },
  {
   "cell_type": "markdown",
   "metadata": {},
   "source": [
    "### Download Libraries"
   ]
  },
  {
   "cell_type": "code",
   "execution_count": 1,
   "metadata": {},
   "outputs": [
    {
     "name": "stdout",
     "output_type": "stream",
     "text": [
      "Requirement already satisfied: openai in /home/daniel/.local/lib/python3.13/site-packages (1.99.9)\n",
      "Requirement already satisfied: scikit-learn in /home/daniel/.local/lib/python3.13/site-packages (1.6.1)\n",
      "Requirement already satisfied: pandas in /home/daniel/.local/lib/python3.13/site-packages (2.2.3)\n",
      "Requirement already satisfied: numpy in /home/daniel/.local/lib/python3.13/site-packages (2.3.2)\n",
      "Requirement already satisfied: matplotlib in /home/daniel/.local/lib/python3.13/site-packages (3.10.1)\n",
      "Requirement already satisfied: torch in /home/daniel/.local/lib/python3.13/site-packages (2.7.0)\n",
      "Requirement already satisfied: torchvision in /home/daniel/.local/lib/python3.13/site-packages (0.22.0)\n",
      "Requirement already satisfied: scipy in /home/daniel/.local/lib/python3.13/site-packages (1.15.2)\n",
      "Requirement already satisfied: seaborn in /home/daniel/.local/lib/python3.13/site-packages (0.13.2)\n",
      "Requirement already satisfied: kagglehub in /home/daniel/miniconda3/lib/python3.13/site-packages (0.3.12)\n",
      "Requirement already satisfied: anyio<5,>=3.5.0 in /home/daniel/.local/lib/python3.13/site-packages (from openai) (4.10.0)\n",
      "Requirement already satisfied: distro<2,>=1.7.0 in /home/daniel/miniconda3/lib/python3.13/site-packages (from openai) (1.9.0)\n",
      "Requirement already satisfied: httpx<1,>=0.23.0 in /home/daniel/.local/lib/python3.13/site-packages (from openai) (0.28.1)\n",
      "Requirement already satisfied: jiter<1,>=0.4.0 in /home/daniel/.local/lib/python3.13/site-packages (from openai) (0.10.0)\n",
      "Requirement already satisfied: pydantic<3,>=1.9.0 in /home/daniel/.local/lib/python3.13/site-packages (from openai) (2.11.2)\n",
      "Requirement already satisfied: sniffio in /home/daniel/.local/lib/python3.13/site-packages (from openai) (1.3.1)\n",
      "Requirement already satisfied: tqdm>4 in /home/daniel/.local/lib/python3.13/site-packages (from openai) (4.67.1)\n",
      "Requirement already satisfied: typing-extensions<5,>=4.11 in /home/daniel/.local/lib/python3.13/site-packages (from openai) (4.14.1)\n",
      "Requirement already satisfied: joblib>=1.2.0 in /home/daniel/.local/lib/python3.13/site-packages (from scikit-learn) (1.5.0)\n",
      "Requirement already satisfied: threadpoolctl>=3.1.0 in /home/daniel/.local/lib/python3.13/site-packages (from scikit-learn) (3.6.0)\n",
      "Requirement already satisfied: python-dateutil>=2.8.2 in /home/daniel/miniconda3/lib/python3.13/site-packages (from pandas) (2.9.0.post0)\n",
      "Requirement already satisfied: pytz>=2020.1 in /home/daniel/.local/lib/python3.13/site-packages (from pandas) (2025.1)\n",
      "Requirement already satisfied: tzdata>=2022.7 in /home/daniel/.local/lib/python3.13/site-packages (from pandas) (2025.1)\n",
      "Requirement already satisfied: contourpy>=1.0.1 in /home/daniel/.local/lib/python3.13/site-packages (from matplotlib) (1.3.2)\n",
      "Requirement already satisfied: cycler>=0.10 in /home/daniel/.local/lib/python3.13/site-packages (from matplotlib) (0.12.1)\n",
      "Requirement already satisfied: fonttools>=4.22.0 in /home/daniel/.local/lib/python3.13/site-packages (from matplotlib) (4.57.0)\n",
      "Requirement already satisfied: kiwisolver>=1.3.1 in /home/daniel/.local/lib/python3.13/site-packages (from matplotlib) (1.4.8)\n",
      "Requirement already satisfied: packaging>=20.0 in /home/daniel/miniconda3/lib/python3.13/site-packages (from matplotlib) (24.2)\n",
      "Requirement already satisfied: pillow>=8 in /home/daniel/miniconda3/lib/python3.13/site-packages (from matplotlib) (11.2.1)\n",
      "Requirement already satisfied: pyparsing>=2.3.1 in /home/daniel/.local/lib/python3.13/site-packages (from matplotlib) (3.2.3)\n",
      "Requirement already satisfied: filelock in /home/daniel/.local/lib/python3.13/site-packages (from torch) (3.18.0)\n",
      "Requirement already satisfied: setuptools in /home/daniel/.local/lib/python3.13/site-packages (from torch) (78.1.0)\n",
      "Requirement already satisfied: sympy>=1.13.3 in /home/daniel/.local/lib/python3.13/site-packages (from torch) (1.14.0)\n",
      "Requirement already satisfied: networkx in /home/daniel/.local/lib/python3.13/site-packages (from torch) (3.4.2)\n",
      "Requirement already satisfied: jinja2 in /home/daniel/.local/lib/python3.13/site-packages (from torch) (3.1.6)\n",
      "Requirement already satisfied: fsspec in /home/daniel/.local/lib/python3.13/site-packages (from torch) (2025.3.2)\n",
      "Requirement already satisfied: nvidia-cuda-nvrtc-cu12==12.6.77 in /home/daniel/.local/lib/python3.13/site-packages (from torch) (12.6.77)\n",
      "Requirement already satisfied: nvidia-cuda-runtime-cu12==12.6.77 in /home/daniel/.local/lib/python3.13/site-packages (from torch) (12.6.77)\n",
      "Requirement already satisfied: nvidia-cuda-cupti-cu12==12.6.80 in /home/daniel/.local/lib/python3.13/site-packages (from torch) (12.6.80)\n",
      "Requirement already satisfied: nvidia-cudnn-cu12==9.5.1.17 in /home/daniel/.local/lib/python3.13/site-packages (from torch) (9.5.1.17)\n",
      "Requirement already satisfied: nvidia-cublas-cu12==12.6.4.1 in /home/daniel/.local/lib/python3.13/site-packages (from torch) (12.6.4.1)\n",
      "Requirement already satisfied: nvidia-cufft-cu12==11.3.0.4 in /home/daniel/.local/lib/python3.13/site-packages (from torch) (11.3.0.4)\n",
      "Requirement already satisfied: nvidia-curand-cu12==10.3.7.77 in /home/daniel/.local/lib/python3.13/site-packages (from torch) (10.3.7.77)\n",
      "Requirement already satisfied: nvidia-cusolver-cu12==11.7.1.2 in /home/daniel/.local/lib/python3.13/site-packages (from torch) (11.7.1.2)\n",
      "Requirement already satisfied: nvidia-cusparse-cu12==12.5.4.2 in /home/daniel/.local/lib/python3.13/site-packages (from torch) (12.5.4.2)\n",
      "Requirement already satisfied: nvidia-cusparselt-cu12==0.6.3 in /home/daniel/.local/lib/python3.13/site-packages (from torch) (0.6.3)\n",
      "Requirement already satisfied: nvidia-nccl-cu12==2.26.2 in /home/daniel/.local/lib/python3.13/site-packages (from torch) (2.26.2)\n",
      "Requirement already satisfied: nvidia-nvtx-cu12==12.6.77 in /home/daniel/.local/lib/python3.13/site-packages (from torch) (12.6.77)\n",
      "Requirement already satisfied: nvidia-nvjitlink-cu12==12.6.85 in /home/daniel/.local/lib/python3.13/site-packages (from torch) (12.6.85)\n",
      "Requirement already satisfied: nvidia-cufile-cu12==1.11.1.6 in /home/daniel/.local/lib/python3.13/site-packages (from torch) (1.11.1.6)\n",
      "Requirement already satisfied: triton==3.3.0 in /home/daniel/.local/lib/python3.13/site-packages (from torch) (3.3.0)\n",
      "Requirement already satisfied: pyyaml in /home/daniel/miniconda3/lib/python3.13/site-packages (from kagglehub) (6.0.2)\n",
      "Requirement already satisfied: requests in /home/daniel/miniconda3/lib/python3.13/site-packages (from kagglehub) (2.32.3)\n",
      "Requirement already satisfied: idna>=2.8 in /home/daniel/miniconda3/lib/python3.13/site-packages (from anyio<5,>=3.5.0->openai) (3.7)\n",
      "Requirement already satisfied: certifi in /home/daniel/.local/lib/python3.13/site-packages (from httpx<1,>=0.23.0->openai) (2025.1.31)\n",
      "Requirement already satisfied: httpcore==1.* in /home/daniel/.local/lib/python3.13/site-packages (from httpx<1,>=0.23.0->openai) (1.0.9)\n",
      "Requirement already satisfied: h11>=0.16 in /home/daniel/.local/lib/python3.13/site-packages (from httpcore==1.*->httpx<1,>=0.23.0->openai) (0.16.0)\n",
      "Requirement already satisfied: annotated-types>=0.6.0 in /home/daniel/.local/lib/python3.13/site-packages (from pydantic<3,>=1.9.0->openai) (0.7.0)\n",
      "Requirement already satisfied: pydantic-core==2.33.1 in /home/daniel/.local/lib/python3.13/site-packages (from pydantic<3,>=1.9.0->openai) (2.33.1)\n",
      "Requirement already satisfied: typing-inspection>=0.4.0 in /home/daniel/.local/lib/python3.13/site-packages (from pydantic<3,>=1.9.0->openai) (0.4.0)\n",
      "Requirement already satisfied: six>=1.5 in /home/daniel/miniconda3/lib/python3.13/site-packages (from python-dateutil>=2.8.2->pandas) (1.17.0)\n",
      "Requirement already satisfied: mpmath<1.4,>=1.1.0 in /home/daniel/.local/lib/python3.13/site-packages (from sympy>=1.13.3->torch) (1.3.0)\n",
      "Requirement already satisfied: MarkupSafe>=2.0 in /home/daniel/.local/lib/python3.13/site-packages (from jinja2->torch) (3.0.2)\n",
      "Requirement already satisfied: charset-normalizer<4,>=2 in /home/daniel/miniconda3/lib/python3.13/site-packages (from requests->kagglehub) (3.3.2)\n",
      "Requirement already satisfied: urllib3<3,>=1.21.1 in /home/daniel/miniconda3/lib/python3.13/site-packages (from requests->kagglehub) (2.3.0)\n"
     ]
    }
   ],
   "source": [
    "!pip install openai scikit-learn pandas numpy matplotlib torch torchvision scipy seaborn kagglehub"
   ]
  },
  {
   "cell_type": "markdown",
   "metadata": {},
   "source": [
    "### Import Necessary Libraries"
   ]
  },
  {
   "cell_type": "code",
   "execution_count": 2,
   "metadata": {},
   "outputs": [],
   "source": [
    "import openai\n",
    "import os \n",
    "import pandas as pd\n",
    "import torch\n",
    "from torch.utils.data import Dataset, DataLoader\n",
    "from sklearn.model_selection import train_test_split\n",
    "from sklearn.metrics import accuracy_score, classification_report"
   ]
  },
  {
   "cell_type": "markdown",
   "id": "8e966da9",
   "metadata": {},
   "source": [
    "\n",
    "### Project Objective & Reproducibility\n",
    "This notebook classifies **file fragments** into image file types. We model fragments as **1D byte sequences** (not images).  \n",
    "We'll ensure reproducibility and a clean environment setup.\n",
    "\n",
    "**Plan**\n",
    "- Dataset: custom `FragmentBinaryDataset` that loads `.dat` fragments as 1D byte tensors (0–255 → 0–1).\n",
    "- Model: 1D CNN for sequence patterns.\n",
    "- Training: standard cross-entropy with accuracy/F1.\n",
    "- GPT (optional): aggregate multiple sub-slice predictions for comparison.\n",
    "\n",
    "**Seeds**\n",
    "We set seeds for Python, NumPy, and PyTorch.\n"
   ]
  },
  {
   "cell_type": "code",
   "execution_count": 3,
   "id": "0d972249",
   "metadata": {},
   "outputs": [
    {
     "name": "stdout",
     "output_type": "stream",
     "text": [
      "Seeds set.\n"
     ]
    }
   ],
   "source": [
    "\n",
    "# Reproducibility: set seeds for python, numpy, and torch\n",
    "import os, random, numpy as np, torch\n",
    "SEED = 42\n",
    "random.seed(SEED)\n",
    "np.random.seed(SEED)\n",
    "torch.manual_seed(SEED)\n",
    "if torch.cuda.is_available():\n",
    "    torch.cuda.manual_seed_all(SEED)\n",
    "torch.backends.cudnn.deterministic = True\n",
    "torch.backends.cudnn.benchmark = False\n",
    "print(\"Seeds set.\")\n"
   ]
  },
  {
   "cell_type": "markdown",
   "metadata": {},
   "source": [
    "### Define DataLoaders"
   ]
  },
  {
   "cell_type": "code",
   "execution_count": 4,
   "metadata": {},
   "outputs": [],
   "source": [
    "\n",
    "import torch\n",
    "from torch.utils.data import Dataset, DataLoader\n",
    "from pathlib import Path\n",
    "import numpy as np\n",
    "\n",
    "class FragmentBinaryDataset(Dataset):\n",
    "    \"\"\"Loads binary .dat fragments as 1D byte tensors.\n",
    "    - root_dir: directory with class subfolders or loose .dat files\n",
    "    - fragment_len: number of bytes per sample (truncate or pad with zeros)\n",
    "    \"\"\"\n",
    "    def __init__(self, root_dir, fragment_len=1024, classes=None):\n",
    "        self.root_dir = Path(root_dir)\n",
    "        self.fragment_len = fragment_len\n",
    "        # infer classes from subdirectories if not provided\n",
    "        if classes is None:\n",
    "            if any(p.is_dir() for p in self.root_dir.iterdir()):\n",
    "                self.classes = sorted([p.name for p in self.root_dir.iterdir() if p.is_dir()])\n",
    "                self.samples = []\n",
    "                for ci, cname in enumerate(self.classes):\n",
    "                    for f in sorted((self.root_dir / cname).glob(\"*.dat\")):\n",
    "                        self.samples.append((f, ci))\n",
    "            else:\n",
    "                # flat folder; class is unknown => use 0\n",
    "                self.classes = [\"unknown\"]\n",
    "                self.samples = [(f, 0) for f in sorted(self.root_dir.glob(\"*.dat\"))]\n",
    "        else:\n",
    "            self.classes = classes\n",
    "            self.samples = []\n",
    "            for ci, cname in enumerate(self.classes):\n",
    "                for f in sorted((self.root_dir / cname).glob(\"*.dat\")):\n",
    "                    self.samples.append((f, ci))\n",
    "\n",
    "    def __len__(self):\n",
    "        return len(self.samples)\n",
    "\n",
    "    def __getitem__(self, idx):\n",
    "        path, label = self.samples[idx]\n",
    "        try:\n",
    "            with open(path, \"rb\") as fh:\n",
    "                data = fh.read(self.fragment_len)\n",
    "            # pad if shorter\n",
    "            if len(data) < self.fragment_len:\n",
    "                data = data + b\"\\x00\" * (self.fragment_len - len(data))\n",
    "            # convert to float tensor in [0,1], shape (1, L) for Conv1d\n",
    "            arr = np.frombuffer(data[:self.fragment_len], dtype=np.uint8).astype(np.float32) / 255.0\n",
    "            tensor = torch.from_numpy(arr).unsqueeze(0)  # (1, L)\n",
    "        except Exception as e:\n",
    "            # fallback: zero tensor if corrupted; could also raise\n",
    "            tensor = torch.zeros(1, self.fragment_len, dtype=torch.float32)\n",
    "        return tensor, label, str(path)\n"
   ]
  },
  {
   "cell_type": "markdown",
   "metadata": {},
   "source": [
    "### Module Architecture"
   ]
  },
  {
   "cell_type": "code",
   "execution_count": 5,
   "metadata": {},
   "outputs": [],
   "source": [
    "\n",
    "import torch.nn as nn\n",
    "\n",
    "class CNN(nn.Module):\n",
    "    def __init__(self, input_dim=1, num_classes=6):\n",
    "        super().__init__()\n",
    "        self.net = nn.Sequential(\n",
    "            nn.Conv1d(input_dim, 64, kernel_size=7, padding=3),\n",
    "            nn.ReLU(inplace=True),\n",
    "            nn.MaxPool1d(2),\n",
    "            nn.Conv1d(64, 128, kernel_size=5, padding=2),\n",
    "            nn.ReLU(inplace=True),\n",
    "            nn.MaxPool1d(2),\n",
    "            nn.Conv1d(128, 256, kernel_size=3, padding=1),\n",
    "            nn.ReLU(inplace=True),\n",
    "            nn.AdaptiveAvgPool1d(1)\n",
    "        )\n",
    "        self.head = nn.Sequential(\n",
    "            nn.Flatten(),\n",
    "            nn.Linear(256, 128),\n",
    "            nn.ReLU(inplace=True),\n",
    "            nn.Dropout(0.2),\n",
    "            nn.Linear(128, num_classes)\n",
    "        )\n",
    "\n",
    "    def forward(self, x):\n",
    "        x = self.net(x)        # (B, 256, 1)\n",
    "        logits = self.head(x)  # (B, C)\n",
    "        return logits\n",
    "\n",
    "# Instantiate with inferred classes later\n"
   ]
  },
  {
   "cell_type": "markdown",
   "metadata": {},
   "source": [
    "### Training and Testing Data Loaders"
   ]
  },
  {
   "cell_type": "code",
   "execution_count": 6,
   "metadata": {},
   "outputs": [
    {
     "name": "stdout",
     "output_type": "stream",
     "text": [
      "Classes: ['Legacy', 'Modern']\n",
      "Train: 24 samples | Test: 7 samples\n"
     ]
    }
   ],
   "source": [
    "\n",
    "# Data loaders (no image transforms; bytes are 1D sequences)\n",
    "from torch.utils.data import DataLoader\n",
    "\n",
    "train_root = \"../Fragments/Training\"\n",
    "test_root  = \"../Fragments/Testing\"\n",
    "\n",
    "# Infer classes from train_root subfolders\n",
    "train_ds = FragmentBinaryDataset(train_root, fragment_len=1024)\n",
    "classes = train_ds.classes\n",
    "test_ds  = FragmentBinaryDataset(test_root, fragment_len=1024, classes=classes)\n",
    "\n",
    "train_loader = DataLoader(train_ds, batch_size=64, shuffle=True, num_workers=2, pin_memory=True)\n",
    "test_loader  = DataLoader(test_ds, batch_size=64, shuffle=False, num_workers=2, pin_memory=True)\n",
    "\n",
    "print(f\"Classes: {classes}\")\n",
    "print(f\"Train: {len(train_ds)} samples | Test: {len(test_ds)} samples\")\n"
   ]
  },
  {
   "cell_type": "markdown",
   "id": "0506093f",
   "metadata": {},
   "source": [
    "\n",
    "### GPT Aggregated Inference \n",
    "We sample multiple sub-slices per fragment, prompt GPT to guess the class, and **aggregate** votes.\n",
    "For compactness, we Base64-encode the sub-slice.\n"
   ]
  },
  {
   "cell_type": "code",
   "execution_count": 7,
   "metadata": {},
   "outputs": [],
   "source": [
    "# Configure your OpenAI API key via environment variable OPENAI_API_KEY\\nfrom openai import OpenAI\\nclient = OpenAI()\\nprint('OpenAI client ready (set OPENAI_API_KEY in env).')"
   ]
  },
  {
   "cell_type": "code",
   "execution_count": 8,
   "id": "92b0ef2d",
   "metadata": {},
   "outputs": [],
   "source": [
    "import base64, json, random\n",
    "apiKey = os.getenv(\"API_KEY\")\n",
    "\n",
    "# Map class names to labels for prompting\n",
    "class_to_label = {c:i for i, c in enumerate(classes)}\n",
    "label_to_class = {i:c for c,i in zip(classes, range(len(classes)))}\n",
    "\n",
    "def gpt_guess_for_bytes(b):\n",
    "    \"\"\"Return a predicted class name from GPT given raw bytes b (<= 256 bytes).\"\"\"\n",
    "    b64 = base64.b64encode(b).decode('ascii')\n",
    "    system = \"You are a forensics assistant. You classify small byte fragments into file types.\"\n",
    "    user = f\"\"\"Given this Base64-encoded byte fragment, predict the file type from {classes}.\n",
    "Fragment (Base64): {b64}\n",
    "Return ONLY the class name.\"\"\"\n",
    "    try:\n",
    "        # NOTE: User must have API key configured in environment for this to work.\n",
    "        from openai import OpenAI\n",
    "        client = OpenAI(api_key=apiKey)\n",
    "        resp = client.chat.completions.create(\n",
    "            model=\"gpt-4o-mini\",\n",
    "            messages=[{\"role\":\"system\",\"content\":system},\n",
    "                      {\"role\":\"user\",\"content\":user}],\n",
    "            temperature=0\n",
    "        )\n",
    "        text = resp.choices[0].message.content.strip()\n",
    "        # normalize to known class if possible\n",
    "        for c in classes:\n",
    "            if c.lower() in text.lower():\n",
    "                return c\n",
    "        return text  # fallback raw\n",
    "    except Exception as e:\n",
    "        return \"ERROR\"\n",
    "\n",
    "def gpt_vote_for_fragment(tensor_bytes, samples=5, sub_len=256):\n",
    "    votes = []\n",
    "    raw = (tensor_bytes * 255.0).clamp(0,1).squeeze(0).to(torch.uint8).cpu().numpy().tobytes()\n",
    "    L = len(raw)\n",
    "    for _ in range(samples):\n",
    "        if L <= sub_len:\n",
    "            start = 0\n",
    "        else:\n",
    "            start = random.randint(0, L - sub_len)\n",
    "        chunk = raw[start:start+sub_len]\n",
    "        pred = gpt_guess_for_bytes(chunk)\n",
    "        votes.append(pred)\n",
    "    # majority\n",
    "    if not votes:\n",
    "        return \"UNKNOWN\"\n",
    "    best = max(set(votes), key=votes.count)\n",
    "    return best, votes\n"
   ]
  },
  {
   "cell_type": "markdown",
   "metadata": {},
   "source": [
    "### Define Prediction Function"
   ]
  },
  {
   "cell_type": "code",
   "execution_count": 9,
   "metadata": {},
   "outputs": [],
   "source": [
    "def predict_fn(byte_tensor):\n",
    "    # For demo: convert bytes to hex string (shortened). You can design a smarter encoding later.\n",
    "    hex_repr = byte_tensor[:64].tolist()  # first 64 bytes as list of ints\n",
    "    \n",
    "    prompt = f\"\"\"\n",
    "    You are a classifier that predicts whether a file fragment belongs to a Legacy or Modern image format.\n",
    "    Legacy formats: BMP, GIF, JPEG, PNG, TIF\n",
    "    Modern formats: WEBP, BPG, JXR, JPF\n",
    "    \n",
    "    Input fragment (first 64 bytes as ints): {hex_repr}\n",
    "    \n",
    "    Respond ONLY as a JSON object with probabilities that sum to 1. For example:\n",
    "    {{\n",
    "        \"Legacy\": 0.73,\n",
    "        \"Modern\": 0.27\n",
    "    }}\n",
    "    \"\"\"\n",
    "\n",
    "    response = client.chat.completions.create(\n",
    "        model=\"gpt-4o-mini\",  # or other GPT model\n",
    "        messages=[{\"role\": \"user\", \"content\": prompt}],\n",
    "        temperature=0  # deterministic output\n",
    "    )\n",
    "\n",
    "    text = response.choices[0].message.content.strip()\n",
    "    import json\n",
    "    probs = json.loads(text)\n",
    "    return probs[\"Modern\"]  # probability for class 1"
   ]
  },
  {
   "cell_type": "markdown",
   "metadata": {},
   "source": [
    "### Define Training Function and Evaluation Metrics "
   ]
  },
  {
   "cell_type": "code",
   "execution_count": 10,
   "metadata": {},
   "outputs": [],
   "source": [
    "from sklearn.metrics import accuracy_score, f1_score, confusion_matrix, classification_report\n",
    "import torch, time\n",
    "import matplotlib.pyplot as plt\n",
    "import seaborn as sns\n",
    "\n",
    "\n",
    "device = torch.device(\"cuda\" if torch.cuda.is_available() else \"cpu\")\n",
    "num_classes = len(classes)\n",
    "model = CNN(input_dim=1, num_classes=num_classes).to(device)\n",
    "criterion = torch.nn.CrossEntropyLoss()\n",
    "optimizer = torch.optim.Adam(model.parameters(), lr=1e-3)\n",
    "\n",
    "import torch, random\n",
    "\n",
    "def train_one_epoch(\n",
    "    model, loader,\n",
    "    *, use_ai=False, ai_weight=0.2,\n",
    "    ai_sample_prob=0.25, ai_max_calls_per_batch=8,\n",
    "    ai_fn=None, ai_cache=None\n",
    "):\n",
    "    \"\"\"\n",
    "    Train for one epoch.\n",
    "    If use_ai=True, blends supervised loss with a soft-target loss from an AI teacher (e.g., predict_fn).\n",
    "    - ai_weight:      weight of the AI (teacher) loss in [0,1]\n",
    "    - ai_sample_prob: probability of querying the teacher for a given sample in a batch\n",
    "    - ai_max_calls_per_batch: cap on teacher calls per batch (controls cost/latency)\n",
    "    - ai_fn:          callable(tensor_1d) -> float in [0,1] giving P(Modern). Defaults to predict_fn.\n",
    "    - ai_cache:       dict for memoizing teacher outputs keyed by first-64-byte signature\n",
    "    \"\"\"\n",
    "    model.train()\n",
    "    if ai_cache is None:\n",
    "        ai_cache = {}\n",
    "\n",
    "    losses, preds_all, labels_all = [], [], []\n",
    "\n",
    "    for x, y, _ in loader:\n",
    "        x = x.to(device, non_blocking=True)\n",
    "        y = y.to(device, non_blocking=True)\n",
    "\n",
    "        optimizer.zero_grad()\n",
    "        logits = model(x)                   # [B, C]\n",
    "        loss = criterion(logits, y)         # supervised CE\n",
    "\n",
    "        # --- Optional AI teacher loss (binary Legacy vs Modern only) ---\n",
    "        if use_ai and logits.size(1) == 2:\n",
    "            # choose which samples to query this batch\n",
    "            bsz = x.size(0)\n",
    "            idxs = [i for i in range(bsz) if random.random() < ai_sample_prob]\n",
    "            if ai_max_calls_per_batch is not None and len(idxs) > ai_max_calls_per_batch:\n",
    "                idxs = random.sample(idxs, ai_max_calls_per_batch)\n",
    "\n",
    "            # gather teacher probabilities\n",
    "            teacher_probs_list = []\n",
    "            student_logits_list = []\n",
    "\n",
    "            for i in idxs:\n",
    "                # create a compact cache key from first 64 bytes (post-flatten, uint8)\n",
    "                xi = x[i].detach().flatten().cpu()\n",
    "                sig = tuple(xi[:64].to(torch.uint8).tolist())\n",
    "\n",
    "                if sig in ai_cache:\n",
    "                    p_modern = ai_cache[sig]\n",
    "                else:\n",
    "                    try:\n",
    "                        # default to your predict_fn if no ai_fn provided\n",
    "                        fn = ai_fn if ai_fn is not None else predict_fn\n",
    "                        p_modern = float(fn(xi))  # expect P(Modern) in [0,1]\n",
    "                        p_modern = max(0.0, min(1.0, p_modern))\n",
    "                        ai_cache[sig] = p_modern\n",
    "                    except Exception:\n",
    "                        p_modern = None  # skip if teacher unavailable/errored\n",
    "\n",
    "                if p_modern is None:\n",
    "                    continue\n",
    "\n",
    "                # build soft target [P(Legacy), P(Modern)]\n",
    "                t = torch.tensor([1.0 - p_modern, p_modern], device=device)\n",
    "                teacher_probs_list.append(t.unsqueeze(0))\n",
    "                student_logits_list.append(logits[i].unsqueeze(0))\n",
    "\n",
    "            if teacher_probs_list:\n",
    "                teacher_probs = torch.cat(teacher_probs_list, dim=0)           # [M, 2]\n",
    "                student_logits = torch.cat(student_logits_list, dim=0)         # [M, 2]\n",
    "                # Soft-target cross-entropy: -sum t * log softmax(s)\n",
    "                kd_loss = -(teacher_probs * torch.log_softmax(student_logits, dim=1)).sum(dim=1).mean()\n",
    "                loss = (1.0 - ai_weight) * loss + ai_weight * kd_loss\n",
    "\n",
    "        # --- Backprop + metrics ---\n",
    "        loss.backward()\n",
    "        optimizer.step()\n",
    "\n",
    "        losses.append(loss.item())\n",
    "        preds = logits.argmax(dim=1)\n",
    "        preds_all.extend(preds.detach().cpu().tolist())\n",
    "        labels_all.extend(y.detach().cpu().tolist())\n",
    "\n",
    "    acc = accuracy_score(labels_all, preds_all)\n",
    "    f1 = f1_score(labels_all, preds_all, average=\"macro\")\n",
    "    return float(sum(losses)/len(losses)), acc, f1\n",
    "\n",
    "\n",
    "def evaluate(model, loader):\n",
    "    model.eval()\n",
    "    preds_all, labels_all = [], []\n",
    "    with torch.no_grad():\n",
    "        for x, y, _ in loader:\n",
    "            x = x.to(device, non_blocking=True)\n",
    "            y = y.to(device, non_blocking=True)\n",
    "            logits = model(x)\n",
    "            preds = logits.argmax(dim=1)\n",
    "            preds_all.extend(preds.detach().cpu().tolist())\n",
    "            labels_all.extend(y.detach().cpu().tolist())\n",
    "    acc = accuracy_score(labels_all, preds_all)\n",
    "    f1 = f1_score(labels_all, preds_all, average=\"macro\")\n",
    "    cm = confusion_matrix(labels_all, preds_all)\n",
    "    print(\"Classification Report:\\n\", classification_report(labels_all, preds_all, target_names=classes))\n",
    "    return acc, f1, cm\n",
    "\n",
    "def plot_confusion_matrix(cm, classes, title=\"Confusion Matrix\"):\n",
    "    plt.figure(figsize=(6,5))\n",
    "    sns.heatmap(cm, annot=True, fmt=\"d\", cmap=\"Blues\",\n",
    "                xticklabels=classes, yticklabels=classes)\n",
    "    plt.ylabel(\"True label\")\n",
    "    plt.xlabel(\"Predicted label\")\n",
    "    plt.title(title)\n",
    "    plt.savefig(\"results/matrix\", dpi=300, bbox_inches=\"tight\")\n",
    "\n",
    "    plt.show()"
   ]
  },
  {
   "cell_type": "markdown",
   "metadata": {},
   "source": [
    "## Evaluating Models (No GPT Inteference, GPT Inteference)"
   ]
  },
  {
   "cell_type": "markdown",
   "metadata": {},
   "source": [
    "### No AI Integration"
   ]
  },
  {
   "cell_type": "code",
   "execution_count": 11,
   "metadata": {},
   "outputs": [
    {
     "name": "stderr",
     "output_type": "stream",
     "text": [
      "/home/daniel/.local/lib/python3.13/site-packages/torch/utils/data/dataloader.py:665: UserWarning: 'pin_memory' argument is set as true but no accelerator is found, then device pinned memory won't be used.\n",
      "  warnings.warn(warn_msg)\n",
      "/home/daniel/.local/lib/python3.13/site-packages/torch/utils/data/dataloader.py:665: UserWarning: 'pin_memory' argument is set as true but no accelerator is found, then device pinned memory won't be used.\n",
      "  warnings.warn(warn_msg)\n"
     ]
    },
    {
     "name": "stdout",
     "output_type": "stream",
     "text": [
      "Classification Report:\n",
      "               precision    recall  f1-score   support\n",
      "\n",
      "      Legacy       0.00      0.00      0.00         3\n",
      "      Modern       0.57      1.00      0.73         4\n",
      "\n",
      "    accuracy                           0.57         7\n",
      "   macro avg       0.29      0.50      0.36         7\n",
      "weighted avg       0.33      0.57      0.42         7\n",
      "\n",
      "Epoch 1/25 | loss=0.6917 acc=0.500 f1=0.333 | val_acc=0.571 val_f1=0.364 | 0.2s\n",
      "✓ Saved best model -> best_cnn.pth\n"
     ]
    },
    {
     "name": "stderr",
     "output_type": "stream",
     "text": [
      "/home/daniel/.local/lib/python3.13/site-packages/sklearn/metrics/_classification.py:1565: UndefinedMetricWarning: Precision is ill-defined and being set to 0.0 in labels with no predicted samples. Use `zero_division` parameter to control this behavior.\n",
      "  _warn_prf(average, modifier, f\"{metric.capitalize()} is\", len(result))\n",
      "/home/daniel/.local/lib/python3.13/site-packages/sklearn/metrics/_classification.py:1565: UndefinedMetricWarning: Precision is ill-defined and being set to 0.0 in labels with no predicted samples. Use `zero_division` parameter to control this behavior.\n",
      "  _warn_prf(average, modifier, f\"{metric.capitalize()} is\", len(result))\n",
      "/home/daniel/.local/lib/python3.13/site-packages/sklearn/metrics/_classification.py:1565: UndefinedMetricWarning: Precision is ill-defined and being set to 0.0 in labels with no predicted samples. Use `zero_division` parameter to control this behavior.\n",
      "  _warn_prf(average, modifier, f\"{metric.capitalize()} is\", len(result))\n",
      "/home/daniel/.local/lib/python3.13/site-packages/torch/utils/data/dataloader.py:665: UserWarning: 'pin_memory' argument is set as true but no accelerator is found, then device pinned memory won't be used.\n",
      "  warnings.warn(warn_msg)\n",
      "/home/daniel/.local/lib/python3.13/site-packages/torch/utils/data/dataloader.py:665: UserWarning: 'pin_memory' argument is set as true but no accelerator is found, then device pinned memory won't be used.\n",
      "  warnings.warn(warn_msg)\n"
     ]
    },
    {
     "name": "stdout",
     "output_type": "stream",
     "text": [
      "Classification Report:\n",
      "               precision    recall  f1-score   support\n",
      "\n",
      "      Legacy       0.00      0.00      0.00         3\n",
      "      Modern       0.57      1.00      0.73         4\n",
      "\n",
      "    accuracy                           0.57         7\n",
      "   macro avg       0.29      0.50      0.36         7\n",
      "weighted avg       0.33      0.57      0.42         7\n",
      "\n",
      "Epoch 2/25 | loss=0.6928 acc=0.500 f1=0.333 | val_acc=0.571 val_f1=0.364 | 0.2s\n"
     ]
    },
    {
     "name": "stderr",
     "output_type": "stream",
     "text": [
      "/home/daniel/.local/lib/python3.13/site-packages/sklearn/metrics/_classification.py:1565: UndefinedMetricWarning: Precision is ill-defined and being set to 0.0 in labels with no predicted samples. Use `zero_division` parameter to control this behavior.\n",
      "  _warn_prf(average, modifier, f\"{metric.capitalize()} is\", len(result))\n",
      "/home/daniel/.local/lib/python3.13/site-packages/sklearn/metrics/_classification.py:1565: UndefinedMetricWarning: Precision is ill-defined and being set to 0.0 in labels with no predicted samples. Use `zero_division` parameter to control this behavior.\n",
      "  _warn_prf(average, modifier, f\"{metric.capitalize()} is\", len(result))\n",
      "/home/daniel/.local/lib/python3.13/site-packages/sklearn/metrics/_classification.py:1565: UndefinedMetricWarning: Precision is ill-defined and being set to 0.0 in labels with no predicted samples. Use `zero_division` parameter to control this behavior.\n",
      "  _warn_prf(average, modifier, f\"{metric.capitalize()} is\", len(result))\n",
      "/home/daniel/.local/lib/python3.13/site-packages/torch/utils/data/dataloader.py:665: UserWarning: 'pin_memory' argument is set as true but no accelerator is found, then device pinned memory won't be used.\n",
      "  warnings.warn(warn_msg)\n",
      "/home/daniel/.local/lib/python3.13/site-packages/torch/utils/data/dataloader.py:665: UserWarning: 'pin_memory' argument is set as true but no accelerator is found, then device pinned memory won't be used.\n",
      "  warnings.warn(warn_msg)\n"
     ]
    },
    {
     "name": "stdout",
     "output_type": "stream",
     "text": [
      "Classification Report:\n",
      "               precision    recall  f1-score   support\n",
      "\n",
      "      Legacy       0.00      0.00      0.00         3\n",
      "      Modern       0.57      1.00      0.73         4\n",
      "\n",
      "    accuracy                           0.57         7\n",
      "   macro avg       0.29      0.50      0.36         7\n",
      "weighted avg       0.33      0.57      0.42         7\n",
      "\n",
      "Epoch 3/25 | loss=0.6921 acc=0.500 f1=0.333 | val_acc=0.571 val_f1=0.364 | 0.2s\n"
     ]
    },
    {
     "name": "stderr",
     "output_type": "stream",
     "text": [
      "/home/daniel/.local/lib/python3.13/site-packages/sklearn/metrics/_classification.py:1565: UndefinedMetricWarning: Precision is ill-defined and being set to 0.0 in labels with no predicted samples. Use `zero_division` parameter to control this behavior.\n",
      "  _warn_prf(average, modifier, f\"{metric.capitalize()} is\", len(result))\n",
      "/home/daniel/.local/lib/python3.13/site-packages/sklearn/metrics/_classification.py:1565: UndefinedMetricWarning: Precision is ill-defined and being set to 0.0 in labels with no predicted samples. Use `zero_division` parameter to control this behavior.\n",
      "  _warn_prf(average, modifier, f\"{metric.capitalize()} is\", len(result))\n",
      "/home/daniel/.local/lib/python3.13/site-packages/sklearn/metrics/_classification.py:1565: UndefinedMetricWarning: Precision is ill-defined and being set to 0.0 in labels with no predicted samples. Use `zero_division` parameter to control this behavior.\n",
      "  _warn_prf(average, modifier, f\"{metric.capitalize()} is\", len(result))\n",
      "/home/daniel/.local/lib/python3.13/site-packages/torch/utils/data/dataloader.py:665: UserWarning: 'pin_memory' argument is set as true but no accelerator is found, then device pinned memory won't be used.\n",
      "  warnings.warn(warn_msg)\n",
      "/home/daniel/.local/lib/python3.13/site-packages/torch/utils/data/dataloader.py:665: UserWarning: 'pin_memory' argument is set as true but no accelerator is found, then device pinned memory won't be used.\n",
      "  warnings.warn(warn_msg)\n"
     ]
    },
    {
     "name": "stdout",
     "output_type": "stream",
     "text": [
      "Classification Report:\n",
      "               precision    recall  f1-score   support\n",
      "\n",
      "      Legacy       1.00      0.33      0.50         3\n",
      "      Modern       0.67      1.00      0.80         4\n",
      "\n",
      "    accuracy                           0.71         7\n",
      "   macro avg       0.83      0.67      0.65         7\n",
      "weighted avg       0.81      0.71      0.67         7\n",
      "\n",
      "Epoch 4/25 | loss=0.6848 acc=0.542 f1=0.420 | val_acc=0.714 val_f1=0.650 | 0.3s\n",
      "✓ Saved best model -> best_cnn.pth\n"
     ]
    },
    {
     "name": "stderr",
     "output_type": "stream",
     "text": [
      "/home/daniel/.local/lib/python3.13/site-packages/torch/utils/data/dataloader.py:665: UserWarning: 'pin_memory' argument is set as true but no accelerator is found, then device pinned memory won't be used.\n",
      "  warnings.warn(warn_msg)\n",
      "/home/daniel/.local/lib/python3.13/site-packages/torch/utils/data/dataloader.py:665: UserWarning: 'pin_memory' argument is set as true but no accelerator is found, then device pinned memory won't be used.\n",
      "  warnings.warn(warn_msg)\n"
     ]
    },
    {
     "name": "stdout",
     "output_type": "stream",
     "text": [
      "Classification Report:\n",
      "               precision    recall  f1-score   support\n",
      "\n",
      "      Legacy       1.00      0.33      0.50         3\n",
      "      Modern       0.67      1.00      0.80         4\n",
      "\n",
      "    accuracy                           0.71         7\n",
      "   macro avg       0.83      0.67      0.65         7\n",
      "weighted avg       0.81      0.71      0.67         7\n",
      "\n",
      "Epoch 5/25 | loss=0.6904 acc=0.500 f1=0.395 | val_acc=0.714 val_f1=0.650 | 0.3s\n"
     ]
    },
    {
     "name": "stderr",
     "output_type": "stream",
     "text": [
      "/home/daniel/.local/lib/python3.13/site-packages/torch/utils/data/dataloader.py:665: UserWarning: 'pin_memory' argument is set as true but no accelerator is found, then device pinned memory won't be used.\n",
      "  warnings.warn(warn_msg)\n",
      "/home/daniel/.local/lib/python3.13/site-packages/torch/utils/data/dataloader.py:665: UserWarning: 'pin_memory' argument is set as true but no accelerator is found, then device pinned memory won't be used.\n",
      "  warnings.warn(warn_msg)\n"
     ]
    },
    {
     "name": "stdout",
     "output_type": "stream",
     "text": [
      "Classification Report:\n",
      "               precision    recall  f1-score   support\n",
      "\n",
      "      Legacy       1.00      0.33      0.50         3\n",
      "      Modern       0.67      1.00      0.80         4\n",
      "\n",
      "    accuracy                           0.71         7\n",
      "   macro avg       0.83      0.67      0.65         7\n",
      "weighted avg       0.81      0.71      0.67         7\n",
      "\n",
      "Epoch 6/25 | loss=0.6880 acc=0.583 f1=0.571 | val_acc=0.714 val_f1=0.650 | 0.3s\n"
     ]
    },
    {
     "name": "stderr",
     "output_type": "stream",
     "text": [
      "/home/daniel/.local/lib/python3.13/site-packages/torch/utils/data/dataloader.py:665: UserWarning: 'pin_memory' argument is set as true but no accelerator is found, then device pinned memory won't be used.\n",
      "  warnings.warn(warn_msg)\n",
      "/home/daniel/.local/lib/python3.13/site-packages/torch/utils/data/dataloader.py:665: UserWarning: 'pin_memory' argument is set as true but no accelerator is found, then device pinned memory won't be used.\n",
      "  warnings.warn(warn_msg)\n"
     ]
    },
    {
     "name": "stdout",
     "output_type": "stream",
     "text": [
      "Classification Report:\n",
      "               precision    recall  f1-score   support\n",
      "\n",
      "      Legacy       1.00      0.33      0.50         3\n",
      "      Modern       0.67      1.00      0.80         4\n",
      "\n",
      "    accuracy                           0.71         7\n",
      "   macro avg       0.83      0.67      0.65         7\n",
      "weighted avg       0.81      0.71      0.67         7\n",
      "\n",
      "Epoch 7/25 | loss=0.6981 acc=0.500 f1=0.467 | val_acc=0.714 val_f1=0.650 | 0.3s\n"
     ]
    },
    {
     "name": "stderr",
     "output_type": "stream",
     "text": [
      "/home/daniel/.local/lib/python3.13/site-packages/torch/utils/data/dataloader.py:665: UserWarning: 'pin_memory' argument is set as true but no accelerator is found, then device pinned memory won't be used.\n",
      "  warnings.warn(warn_msg)\n",
      "/home/daniel/.local/lib/python3.13/site-packages/torch/utils/data/dataloader.py:665: UserWarning: 'pin_memory' argument is set as true but no accelerator is found, then device pinned memory won't be used.\n",
      "  warnings.warn(warn_msg)\n"
     ]
    },
    {
     "name": "stdout",
     "output_type": "stream",
     "text": [
      "Classification Report:\n",
      "               precision    recall  f1-score   support\n",
      "\n",
      "      Legacy       1.00      0.33      0.50         3\n",
      "      Modern       0.67      1.00      0.80         4\n",
      "\n",
      "    accuracy                           0.71         7\n",
      "   macro avg       0.83      0.67      0.65         7\n",
      "weighted avg       0.81      0.71      0.67         7\n",
      "\n",
      "Epoch 8/25 | loss=0.6869 acc=0.542 f1=0.499 | val_acc=0.714 val_f1=0.650 | 0.2s\n"
     ]
    },
    {
     "name": "stderr",
     "output_type": "stream",
     "text": [
      "/home/daniel/.local/lib/python3.13/site-packages/torch/utils/data/dataloader.py:665: UserWarning: 'pin_memory' argument is set as true but no accelerator is found, then device pinned memory won't be used.\n",
      "  warnings.warn(warn_msg)\n",
      "/home/daniel/.local/lib/python3.13/site-packages/torch/utils/data/dataloader.py:665: UserWarning: 'pin_memory' argument is set as true but no accelerator is found, then device pinned memory won't be used.\n",
      "  warnings.warn(warn_msg)\n"
     ]
    },
    {
     "name": "stdout",
     "output_type": "stream",
     "text": [
      "Classification Report:\n",
      "               precision    recall  f1-score   support\n",
      "\n",
      "      Legacy       1.00      0.33      0.50         3\n",
      "      Modern       0.67      1.00      0.80         4\n",
      "\n",
      "    accuracy                           0.71         7\n",
      "   macro avg       0.83      0.67      0.65         7\n",
      "weighted avg       0.81      0.71      0.67         7\n",
      "\n",
      "Epoch 9/25 | loss=0.6706 acc=0.583 f1=0.496 | val_acc=0.714 val_f1=0.650 | 0.3s\n"
     ]
    },
    {
     "name": "stderr",
     "output_type": "stream",
     "text": [
      "/home/daniel/.local/lib/python3.13/site-packages/torch/utils/data/dataloader.py:665: UserWarning: 'pin_memory' argument is set as true but no accelerator is found, then device pinned memory won't be used.\n",
      "  warnings.warn(warn_msg)\n",
      "/home/daniel/.local/lib/python3.13/site-packages/torch/utils/data/dataloader.py:665: UserWarning: 'pin_memory' argument is set as true but no accelerator is found, then device pinned memory won't be used.\n",
      "  warnings.warn(warn_msg)\n"
     ]
    },
    {
     "name": "stdout",
     "output_type": "stream",
     "text": [
      "Classification Report:\n",
      "               precision    recall  f1-score   support\n",
      "\n",
      "      Legacy       1.00      1.00      1.00         3\n",
      "      Modern       1.00      1.00      1.00         4\n",
      "\n",
      "    accuracy                           1.00         7\n",
      "   macro avg       1.00      1.00      1.00         7\n",
      "weighted avg       1.00      1.00      1.00         7\n",
      "\n",
      "Epoch 10/25 | loss=0.6775 acc=0.625 f1=0.564 | val_acc=1.000 val_f1=1.000 | 0.3s\n",
      "✓ Saved best model -> best_cnn.pth\n"
     ]
    },
    {
     "name": "stderr",
     "output_type": "stream",
     "text": [
      "/home/daniel/.local/lib/python3.13/site-packages/torch/utils/data/dataloader.py:665: UserWarning: 'pin_memory' argument is set as true but no accelerator is found, then device pinned memory won't be used.\n",
      "  warnings.warn(warn_msg)\n",
      "/home/daniel/.local/lib/python3.13/site-packages/torch/utils/data/dataloader.py:665: UserWarning: 'pin_memory' argument is set as true but no accelerator is found, then device pinned memory won't be used.\n",
      "  warnings.warn(warn_msg)\n"
     ]
    },
    {
     "name": "stdout",
     "output_type": "stream",
     "text": [
      "Classification Report:\n",
      "               precision    recall  f1-score   support\n",
      "\n",
      "      Legacy       1.00      0.33      0.50         3\n",
      "      Modern       0.67      1.00      0.80         4\n",
      "\n",
      "    accuracy                           0.71         7\n",
      "   macro avg       0.83      0.67      0.65         7\n",
      "weighted avg       0.81      0.71      0.67         7\n",
      "\n",
      "Epoch 11/25 | loss=0.6781 acc=0.458 f1=0.457 | val_acc=0.714 val_f1=0.650 | 0.3s\n"
     ]
    },
    {
     "name": "stderr",
     "output_type": "stream",
     "text": [
      "/home/daniel/.local/lib/python3.13/site-packages/torch/utils/data/dataloader.py:665: UserWarning: 'pin_memory' argument is set as true but no accelerator is found, then device pinned memory won't be used.\n",
      "  warnings.warn(warn_msg)\n",
      "/home/daniel/.local/lib/python3.13/site-packages/torch/utils/data/dataloader.py:665: UserWarning: 'pin_memory' argument is set as true but no accelerator is found, then device pinned memory won't be used.\n",
      "  warnings.warn(warn_msg)\n"
     ]
    },
    {
     "name": "stdout",
     "output_type": "stream",
     "text": [
      "Classification Report:\n",
      "               precision    recall  f1-score   support\n",
      "\n",
      "      Legacy       1.00      0.33      0.50         3\n",
      "      Modern       0.67      1.00      0.80         4\n",
      "\n",
      "    accuracy                           0.71         7\n",
      "   macro avg       0.83      0.67      0.65         7\n",
      "weighted avg       0.81      0.71      0.67         7\n",
      "\n",
      "Epoch 12/25 | loss=0.6858 acc=0.500 f1=0.500 | val_acc=0.714 val_f1=0.650 | 0.3s\n"
     ]
    },
    {
     "name": "stderr",
     "output_type": "stream",
     "text": [
      "/home/daniel/.local/lib/python3.13/site-packages/torch/utils/data/dataloader.py:665: UserWarning: 'pin_memory' argument is set as true but no accelerator is found, then device pinned memory won't be used.\n",
      "  warnings.warn(warn_msg)\n",
      "/home/daniel/.local/lib/python3.13/site-packages/torch/utils/data/dataloader.py:665: UserWarning: 'pin_memory' argument is set as true but no accelerator is found, then device pinned memory won't be used.\n",
      "  warnings.warn(warn_msg)\n"
     ]
    },
    {
     "name": "stdout",
     "output_type": "stream",
     "text": [
      "Classification Report:\n",
      "               precision    recall  f1-score   support\n",
      "\n",
      "      Legacy       1.00      0.33      0.50         3\n",
      "      Modern       0.67      1.00      0.80         4\n",
      "\n",
      "    accuracy                           0.71         7\n",
      "   macro avg       0.83      0.67      0.65         7\n",
      "weighted avg       0.81      0.71      0.67         7\n",
      "\n",
      "Epoch 13/25 | loss=0.6775 acc=0.500 f1=0.438 | val_acc=0.714 val_f1=0.650 | 0.3s\n"
     ]
    },
    {
     "name": "stderr",
     "output_type": "stream",
     "text": [
      "/home/daniel/.local/lib/python3.13/site-packages/torch/utils/data/dataloader.py:665: UserWarning: 'pin_memory' argument is set as true but no accelerator is found, then device pinned memory won't be used.\n",
      "  warnings.warn(warn_msg)\n",
      "/home/daniel/.local/lib/python3.13/site-packages/torch/utils/data/dataloader.py:665: UserWarning: 'pin_memory' argument is set as true but no accelerator is found, then device pinned memory won't be used.\n",
      "  warnings.warn(warn_msg)\n"
     ]
    },
    {
     "name": "stdout",
     "output_type": "stream",
     "text": [
      "Classification Report:\n",
      "               precision    recall  f1-score   support\n",
      "\n",
      "      Legacy       1.00      0.33      0.50         3\n",
      "      Modern       0.67      1.00      0.80         4\n",
      "\n",
      "    accuracy                           0.71         7\n",
      "   macro avg       0.83      0.67      0.65         7\n",
      "weighted avg       0.81      0.71      0.67         7\n",
      "\n",
      "Epoch 14/25 | loss=0.6696 acc=0.583 f1=0.496 | val_acc=0.714 val_f1=0.650 | 0.2s\n"
     ]
    },
    {
     "name": "stderr",
     "output_type": "stream",
     "text": [
      "/home/daniel/.local/lib/python3.13/site-packages/torch/utils/data/dataloader.py:665: UserWarning: 'pin_memory' argument is set as true but no accelerator is found, then device pinned memory won't be used.\n",
      "  warnings.warn(warn_msg)\n",
      "/home/daniel/.local/lib/python3.13/site-packages/torch/utils/data/dataloader.py:665: UserWarning: 'pin_memory' argument is set as true but no accelerator is found, then device pinned memory won't be used.\n",
      "  warnings.warn(warn_msg)\n"
     ]
    },
    {
     "name": "stdout",
     "output_type": "stream",
     "text": [
      "Classification Report:\n",
      "               precision    recall  f1-score   support\n",
      "\n",
      "      Legacy       1.00      0.33      0.50         3\n",
      "      Modern       0.67      1.00      0.80         4\n",
      "\n",
      "    accuracy                           0.71         7\n",
      "   macro avg       0.83      0.67      0.65         7\n",
      "weighted avg       0.81      0.71      0.67         7\n",
      "\n",
      "Epoch 15/25 | loss=0.6683 acc=0.583 f1=0.496 | val_acc=0.714 val_f1=0.650 | 0.2s\n"
     ]
    },
    {
     "name": "stderr",
     "output_type": "stream",
     "text": [
      "/home/daniel/.local/lib/python3.13/site-packages/torch/utils/data/dataloader.py:665: UserWarning: 'pin_memory' argument is set as true but no accelerator is found, then device pinned memory won't be used.\n",
      "  warnings.warn(warn_msg)\n",
      "/home/daniel/.local/lib/python3.13/site-packages/torch/utils/data/dataloader.py:665: UserWarning: 'pin_memory' argument is set as true but no accelerator is found, then device pinned memory won't be used.\n",
      "  warnings.warn(warn_msg)\n"
     ]
    },
    {
     "name": "stdout",
     "output_type": "stream",
     "text": [
      "Classification Report:\n",
      "               precision    recall  f1-score   support\n",
      "\n",
      "      Legacy       1.00      0.33      0.50         3\n",
      "      Modern       0.67      1.00      0.80         4\n",
      "\n",
      "    accuracy                           0.71         7\n",
      "   macro avg       0.83      0.67      0.65         7\n",
      "weighted avg       0.81      0.71      0.67         7\n",
      "\n",
      "Epoch 16/25 | loss=0.6593 acc=0.625 f1=0.564 | val_acc=0.714 val_f1=0.650 | 0.2s\n"
     ]
    },
    {
     "name": "stderr",
     "output_type": "stream",
     "text": [
      "/home/daniel/.local/lib/python3.13/site-packages/torch/utils/data/dataloader.py:665: UserWarning: 'pin_memory' argument is set as true but no accelerator is found, then device pinned memory won't be used.\n",
      "  warnings.warn(warn_msg)\n",
      "/home/daniel/.local/lib/python3.13/site-packages/torch/utils/data/dataloader.py:665: UserWarning: 'pin_memory' argument is set as true but no accelerator is found, then device pinned memory won't be used.\n",
      "  warnings.warn(warn_msg)\n"
     ]
    },
    {
     "name": "stdout",
     "output_type": "stream",
     "text": [
      "Classification Report:\n",
      "               precision    recall  f1-score   support\n",
      "\n",
      "      Legacy       1.00      0.33      0.50         3\n",
      "      Modern       0.67      1.00      0.80         4\n",
      "\n",
      "    accuracy                           0.71         7\n",
      "   macro avg       0.83      0.67      0.65         7\n",
      "weighted avg       0.81      0.71      0.67         7\n",
      "\n",
      "Epoch 17/25 | loss=0.6411 acc=0.625 f1=0.624 | val_acc=0.714 val_f1=0.650 | 0.3s\n"
     ]
    },
    {
     "name": "stderr",
     "output_type": "stream",
     "text": [
      "/home/daniel/.local/lib/python3.13/site-packages/torch/utils/data/dataloader.py:665: UserWarning: 'pin_memory' argument is set as true but no accelerator is found, then device pinned memory won't be used.\n",
      "  warnings.warn(warn_msg)\n",
      "/home/daniel/.local/lib/python3.13/site-packages/torch/utils/data/dataloader.py:665: UserWarning: 'pin_memory' argument is set as true but no accelerator is found, then device pinned memory won't be used.\n",
      "  warnings.warn(warn_msg)\n"
     ]
    },
    {
     "name": "stdout",
     "output_type": "stream",
     "text": [
      "Classification Report:\n",
      "               precision    recall  f1-score   support\n",
      "\n",
      "      Legacy       1.00      0.33      0.50         3\n",
      "      Modern       0.67      1.00      0.80         4\n",
      "\n",
      "    accuracy                           0.71         7\n",
      "   macro avg       0.83      0.67      0.65         7\n",
      "weighted avg       0.81      0.71      0.67         7\n",
      "\n",
      "Epoch 18/25 | loss=0.6396 acc=0.583 f1=0.556 | val_acc=0.714 val_f1=0.650 | 0.3s\n"
     ]
    },
    {
     "name": "stderr",
     "output_type": "stream",
     "text": [
      "/home/daniel/.local/lib/python3.13/site-packages/torch/utils/data/dataloader.py:665: UserWarning: 'pin_memory' argument is set as true but no accelerator is found, then device pinned memory won't be used.\n",
      "  warnings.warn(warn_msg)\n",
      "/home/daniel/.local/lib/python3.13/site-packages/torch/utils/data/dataloader.py:665: UserWarning: 'pin_memory' argument is set as true but no accelerator is found, then device pinned memory won't be used.\n",
      "  warnings.warn(warn_msg)\n"
     ]
    },
    {
     "name": "stdout",
     "output_type": "stream",
     "text": [
      "Classification Report:\n",
      "               precision    recall  f1-score   support\n",
      "\n",
      "      Legacy       1.00      0.33      0.50         3\n",
      "      Modern       0.67      1.00      0.80         4\n",
      "\n",
      "    accuracy                           0.71         7\n",
      "   macro avg       0.83      0.67      0.65         7\n",
      "weighted avg       0.81      0.71      0.67         7\n",
      "\n",
      "Epoch 19/25 | loss=0.6474 acc=0.583 f1=0.556 | val_acc=0.714 val_f1=0.650 | 0.3s\n"
     ]
    },
    {
     "name": "stderr",
     "output_type": "stream",
     "text": [
      "/home/daniel/.local/lib/python3.13/site-packages/torch/utils/data/dataloader.py:665: UserWarning: 'pin_memory' argument is set as true but no accelerator is found, then device pinned memory won't be used.\n",
      "  warnings.warn(warn_msg)\n",
      "/home/daniel/.local/lib/python3.13/site-packages/torch/utils/data/dataloader.py:665: UserWarning: 'pin_memory' argument is set as true but no accelerator is found, then device pinned memory won't be used.\n",
      "  warnings.warn(warn_msg)\n"
     ]
    },
    {
     "name": "stdout",
     "output_type": "stream",
     "text": [
      "Classification Report:\n",
      "               precision    recall  f1-score   support\n",
      "\n",
      "      Legacy       1.00      0.33      0.50         3\n",
      "      Modern       0.67      1.00      0.80         4\n",
      "\n",
      "    accuracy                           0.71         7\n",
      "   macro avg       0.83      0.67      0.65         7\n",
      "weighted avg       0.81      0.71      0.67         7\n",
      "\n",
      "Epoch 20/25 | loss=0.6299 acc=0.667 f1=0.625 | val_acc=0.714 val_f1=0.650 | 0.2s\n"
     ]
    },
    {
     "name": "stderr",
     "output_type": "stream",
     "text": [
      "/home/daniel/.local/lib/python3.13/site-packages/torch/utils/data/dataloader.py:665: UserWarning: 'pin_memory' argument is set as true but no accelerator is found, then device pinned memory won't be used.\n",
      "  warnings.warn(warn_msg)\n",
      "/home/daniel/.local/lib/python3.13/site-packages/torch/utils/data/dataloader.py:665: UserWarning: 'pin_memory' argument is set as true but no accelerator is found, then device pinned memory won't be used.\n",
      "  warnings.warn(warn_msg)\n"
     ]
    },
    {
     "name": "stdout",
     "output_type": "stream",
     "text": [
      "Classification Report:\n",
      "               precision    recall  f1-score   support\n",
      "\n",
      "      Legacy       1.00      0.33      0.50         3\n",
      "      Modern       0.67      1.00      0.80         4\n",
      "\n",
      "    accuracy                           0.71         7\n",
      "   macro avg       0.83      0.67      0.65         7\n",
      "weighted avg       0.81      0.71      0.67         7\n",
      "\n",
      "Epoch 21/25 | loss=0.6315 acc=0.708 f1=0.695 | val_acc=0.714 val_f1=0.650 | 0.2s\n"
     ]
    },
    {
     "name": "stderr",
     "output_type": "stream",
     "text": [
      "/home/daniel/.local/lib/python3.13/site-packages/torch/utils/data/dataloader.py:665: UserWarning: 'pin_memory' argument is set as true but no accelerator is found, then device pinned memory won't be used.\n",
      "  warnings.warn(warn_msg)\n",
      "/home/daniel/.local/lib/python3.13/site-packages/torch/utils/data/dataloader.py:665: UserWarning: 'pin_memory' argument is set as true but no accelerator is found, then device pinned memory won't be used.\n",
      "  warnings.warn(warn_msg)\n"
     ]
    },
    {
     "name": "stdout",
     "output_type": "stream",
     "text": [
      "Classification Report:\n",
      "               precision    recall  f1-score   support\n",
      "\n",
      "      Legacy       1.00      0.33      0.50         3\n",
      "      Modern       0.67      1.00      0.80         4\n",
      "\n",
      "    accuracy                           0.71         7\n",
      "   macro avg       0.83      0.67      0.65         7\n",
      "weighted avg       0.81      0.71      0.67         7\n",
      "\n",
      "Epoch 22/25 | loss=0.6376 acc=0.625 f1=0.590 | val_acc=0.714 val_f1=0.650 | 0.2s\n"
     ]
    },
    {
     "name": "stderr",
     "output_type": "stream",
     "text": [
      "/home/daniel/.local/lib/python3.13/site-packages/torch/utils/data/dataloader.py:665: UserWarning: 'pin_memory' argument is set as true but no accelerator is found, then device pinned memory won't be used.\n",
      "  warnings.warn(warn_msg)\n",
      "/home/daniel/.local/lib/python3.13/site-packages/torch/utils/data/dataloader.py:665: UserWarning: 'pin_memory' argument is set as true but no accelerator is found, then device pinned memory won't be used.\n",
      "  warnings.warn(warn_msg)\n"
     ]
    },
    {
     "name": "stdout",
     "output_type": "stream",
     "text": [
      "Classification Report:\n",
      "               precision    recall  f1-score   support\n",
      "\n",
      "      Legacy       1.00      0.33      0.50         3\n",
      "      Modern       0.67      1.00      0.80         4\n",
      "\n",
      "    accuracy                           0.71         7\n",
      "   macro avg       0.83      0.67      0.65         7\n",
      "weighted avg       0.81      0.71      0.67         7\n",
      "\n",
      "Epoch 23/25 | loss=0.6299 acc=0.667 f1=0.644 | val_acc=0.714 val_f1=0.650 | 0.3s\n"
     ]
    },
    {
     "name": "stderr",
     "output_type": "stream",
     "text": [
      "/home/daniel/.local/lib/python3.13/site-packages/torch/utils/data/dataloader.py:665: UserWarning: 'pin_memory' argument is set as true but no accelerator is found, then device pinned memory won't be used.\n",
      "  warnings.warn(warn_msg)\n",
      "/home/daniel/.local/lib/python3.13/site-packages/torch/utils/data/dataloader.py:665: UserWarning: 'pin_memory' argument is set as true but no accelerator is found, then device pinned memory won't be used.\n",
      "  warnings.warn(warn_msg)\n"
     ]
    },
    {
     "name": "stdout",
     "output_type": "stream",
     "text": [
      "Classification Report:\n",
      "               precision    recall  f1-score   support\n",
      "\n",
      "      Legacy       1.00      0.33      0.50         3\n",
      "      Modern       0.67      1.00      0.80         4\n",
      "\n",
      "    accuracy                           0.71         7\n",
      "   macro avg       0.83      0.67      0.65         7\n",
      "weighted avg       0.81      0.71      0.67         7\n",
      "\n",
      "Epoch 24/25 | loss=0.6098 acc=0.667 f1=0.644 | val_acc=0.714 val_f1=0.650 | 0.3s\n"
     ]
    },
    {
     "name": "stderr",
     "output_type": "stream",
     "text": [
      "/home/daniel/.local/lib/python3.13/site-packages/torch/utils/data/dataloader.py:665: UserWarning: 'pin_memory' argument is set as true but no accelerator is found, then device pinned memory won't be used.\n",
      "  warnings.warn(warn_msg)\n",
      "/home/daniel/.local/lib/python3.13/site-packages/torch/utils/data/dataloader.py:665: UserWarning: 'pin_memory' argument is set as true but no accelerator is found, then device pinned memory won't be used.\n",
      "  warnings.warn(warn_msg)\n"
     ]
    },
    {
     "name": "stdout",
     "output_type": "stream",
     "text": [
      "Classification Report:\n",
      "               precision    recall  f1-score   support\n",
      "\n",
      "      Legacy       1.00      0.33      0.50         3\n",
      "      Modern       0.67      1.00      0.80         4\n",
      "\n",
      "    accuracy                           0.71         7\n",
      "   macro avg       0.83      0.67      0.65         7\n",
      "weighted avg       0.81      0.71      0.67         7\n",
      "\n",
      "Epoch 25/25 | loss=0.6135 acc=0.667 f1=0.644 | val_acc=0.714 val_f1=0.650 | 0.2s\n"
     ]
    },
    {
     "data": {
      "image/png": "[encoded data removed]",
      "text/plain": [
       "<Figure size 600x500 with 2 Axes>"
      ]
     },
     "metadata": {},
     "output_type": "display_data"
    }
   ],
   "source": [
    "EPOCHS = 25  # Set number of epochs for training\n",
    "best_acc = 0.0\n",
    "for epoch in range(1, EPOCHS+1):\n",
    "    t0 = time.time()\n",
    "    train_loss, train_acc, train_f1 = train_one_epoch(model, train_loader)\n",
    "    val_acc, val_f1, cm = evaluate(model, test_loader)\n",
    "    dt = time.time() - t0\n",
    "    print(f\"Epoch {epoch}/{EPOCHS} | \"\n",
    "          f\"loss={train_loss:.4f} acc={train_acc:.3f} f1={train_f1:.3f} | \"\n",
    "          f\"val_acc={val_acc:.3f} val_f1={val_f1:.3f} | {dt:.1f}s\")\n",
    "    if val_acc > best_acc:\n",
    "        best_acc = val_acc\n",
    "        torch.save({\"model\": model.state_dict(), \"classes\": classes}, \"best_cnn.pth\")\n",
    "        print(\"✓ Saved best model -> best_cnn.pth\")\n",
    "plot_confusion_matrix(cm, classes, title=f\"No AI Confusion Matrix (Acc={val_acc:.2f}, F1={val_f1:.2f})\")\n"
   ]
  },
  {
   "cell_type": "markdown",
   "metadata": {},
   "source": [
    "### AI Integration"
   ]
  },
  {
   "cell_type": "code",
   "execution_count": 12,
   "metadata": {},
   "outputs": [
    {
     "name": "stderr",
     "output_type": "stream",
     "text": [
      "/home/daniel/.local/lib/python3.13/site-packages/torch/utils/data/dataloader.py:665: UserWarning: 'pin_memory' argument is set as true but no accelerator is found, then device pinned memory won't be used.\n",
      "  warnings.warn(warn_msg)\n"
     ]
    },
    {
     "name": "stderr",
     "output_type": "stream",
     "text": [
      "/home/daniel/.local/lib/python3.13/site-packages/torch/utils/data/dataloader.py:665: UserWarning: 'pin_memory' argument is set as true but no accelerator is found, then device pinned memory won't be used.\n",
      "  warnings.warn(warn_msg)\n"
     ]
    },
    {
     "name": "stdout",
     "output_type": "stream",
     "text": [
      "Classification Report:\n",
      "               precision    recall  f1-score   support\n",
      "\n",
      "      Legacy       1.00      0.33      0.50         3\n",
      "      Modern       0.67      1.00      0.80         4\n",
      "\n",
      "    accuracy                           0.71         7\n",
      "   macro avg       0.83      0.67      0.65         7\n",
      "weighted avg       0.81      0.71      0.67         7\n",
      "\n",
      "Epoch 1/25 | loss=0.6080 acc=0.667 f1=0.644 | val_acc=0.714 val_f1=0.650 | 0.3s\n",
      "✓ Saved best model -> best_cnn.pth\n"
     ]
    },
    {
     "name": "stderr",
     "output_type": "stream",
     "text": [
      "/home/daniel/.local/lib/python3.13/site-packages/torch/utils/data/dataloader.py:665: UserWarning: 'pin_memory' argument is set as true but no accelerator is found, then device pinned memory won't be used.\n",
      "  warnings.warn(warn_msg)\n",
      "/home/daniel/.local/lib/python3.13/site-packages/torch/utils/data/dataloader.py:665: UserWarning: 'pin_memory' argument is set as true but no accelerator is found, then device pinned memory won't be used.\n",
      "  warnings.warn(warn_msg)\n"
     ]
    },
    {
     "name": "stdout",
     "output_type": "stream",
     "text": [
      "Classification Report:\n",
      "               precision    recall  f1-score   support\n",
      "\n",
      "      Legacy       1.00      0.33      0.50         3\n",
      "      Modern       0.67      1.00      0.80         4\n",
      "\n",
      "    accuracy                           0.71         7\n",
      "   macro avg       0.83      0.67      0.65         7\n",
      "weighted avg       0.81      0.71      0.67         7\n",
      "\n",
      "Epoch 2/25 | loss=0.6492 acc=0.625 f1=0.608 | val_acc=0.714 val_f1=0.650 | 0.2s\n"
     ]
    },
    {
     "name": "stderr",
     "output_type": "stream",
     "text": [
      "/home/daniel/.local/lib/python3.13/site-packages/torch/utils/data/dataloader.py:665: UserWarning: 'pin_memory' argument is set as true but no accelerator is found, then device pinned memory won't be used.\n",
      "  warnings.warn(warn_msg)\n",
      "/home/daniel/.local/lib/python3.13/site-packages/torch/utils/data/dataloader.py:665: UserWarning: 'pin_memory' argument is set as true but no accelerator is found, then device pinned memory won't be used.\n",
      "  warnings.warn(warn_msg)\n"
     ]
    },
    {
     "name": "stdout",
     "output_type": "stream",
     "text": [
      "Classification Report:\n",
      "               precision    recall  f1-score   support\n",
      "\n",
      "      Legacy       1.00      0.33      0.50         3\n",
      "      Modern       0.67      1.00      0.80         4\n",
      "\n",
      "    accuracy                           0.71         7\n",
      "   macro avg       0.83      0.67      0.65         7\n",
      "weighted avg       0.81      0.71      0.67         7\n",
      "\n",
      "Epoch 3/25 | loss=0.6261 acc=0.667 f1=0.644 | val_acc=0.714 val_f1=0.650 | 0.3s\n"
     ]
    },
    {
     "name": "stderr",
     "output_type": "stream",
     "text": [
      "/home/daniel/.local/lib/python3.13/site-packages/torch/utils/data/dataloader.py:665: UserWarning: 'pin_memory' argument is set as true but no accelerator is found, then device pinned memory won't be used.\n",
      "  warnings.warn(warn_msg)\n",
      "/home/daniel/.local/lib/python3.13/site-packages/torch/utils/data/dataloader.py:665: UserWarning: 'pin_memory' argument is set as true but no accelerator is found, then device pinned memory won't be used.\n",
      "  warnings.warn(warn_msg)\n"
     ]
    },
    {
     "name": "stdout",
     "output_type": "stream",
     "text": [
      "Classification Report:\n",
      "               precision    recall  f1-score   support\n",
      "\n",
      "      Legacy       1.00      0.33      0.50         3\n",
      "      Modern       0.67      1.00      0.80         4\n",
      "\n",
      "    accuracy                           0.71         7\n",
      "   macro avg       0.83      0.67      0.65         7\n",
      "weighted avg       0.81      0.71      0.67         7\n",
      "\n",
      "Epoch 4/25 | loss=0.6181 acc=0.667 f1=0.644 | val_acc=0.714 val_f1=0.650 | 0.2s\n"
     ]
    },
    {
     "name": "stderr",
     "output_type": "stream",
     "text": [
      "/home/daniel/.local/lib/python3.13/site-packages/torch/utils/data/dataloader.py:665: UserWarning: 'pin_memory' argument is set as true but no accelerator is found, then device pinned memory won't be used.\n",
      "  warnings.warn(warn_msg)\n",
      "/home/daniel/.local/lib/python3.13/site-packages/torch/utils/data/dataloader.py:665: UserWarning: 'pin_memory' argument is set as true but no accelerator is found, then device pinned memory won't be used.\n",
      "  warnings.warn(warn_msg)\n"
     ]
    },
    {
     "name": "stdout",
     "output_type": "stream",
     "text": [
      "Classification Report:\n",
      "               precision    recall  f1-score   support\n",
      "\n",
      "      Legacy       1.00      0.33      0.50         3\n",
      "      Modern       0.67      1.00      0.80         4\n",
      "\n",
      "    accuracy                           0.71         7\n",
      "   macro avg       0.83      0.67      0.65         7\n",
      "weighted avg       0.81      0.71      0.67         7\n",
      "\n",
      "Epoch 5/25 | loss=0.6265 acc=0.667 f1=0.644 | val_acc=0.714 val_f1=0.650 | 0.2s\n"
     ]
    },
    {
     "name": "stderr",
     "output_type": "stream",
     "text": [
      "/home/daniel/.local/lib/python3.13/site-packages/torch/utils/data/dataloader.py:665: UserWarning: 'pin_memory' argument is set as true but no accelerator is found, then device pinned memory won't be used.\n",
      "  warnings.warn(warn_msg)\n",
      "/home/daniel/.local/lib/python3.13/site-packages/torch/utils/data/dataloader.py:665: UserWarning: 'pin_memory' argument is set as true but no accelerator is found, then device pinned memory won't be used.\n",
      "  warnings.warn(warn_msg)\n"
     ]
    },
    {
     "name": "stdout",
     "output_type": "stream",
     "text": [
      "Classification Report:\n",
      "               precision    recall  f1-score   support\n",
      "\n",
      "      Legacy       1.00      0.33      0.50         3\n",
      "      Modern       0.67      1.00      0.80         4\n",
      "\n",
      "    accuracy                           0.71         7\n",
      "   macro avg       0.83      0.67      0.65         7\n",
      "weighted avg       0.81      0.71      0.67         7\n",
      "\n",
      "Epoch 6/25 | loss=0.6198 acc=0.667 f1=0.644 | val_acc=0.714 val_f1=0.650 | 0.3s\n"
     ]
    },
    {
     "name": "stderr",
     "output_type": "stream",
     "text": [
      "/home/daniel/.local/lib/python3.13/site-packages/torch/utils/data/dataloader.py:665: UserWarning: 'pin_memory' argument is set as true but no accelerator is found, then device pinned memory won't be used.\n",
      "  warnings.warn(warn_msg)\n",
      "/home/daniel/.local/lib/python3.13/site-packages/torch/utils/data/dataloader.py:665: UserWarning: 'pin_memory' argument is set as true but no accelerator is found, then device pinned memory won't be used.\n",
      "  warnings.warn(warn_msg)\n"
     ]
    },
    {
     "name": "stdout",
     "output_type": "stream",
     "text": [
      "Classification Report:\n",
      "               precision    recall  f1-score   support\n",
      "\n",
      "      Legacy       1.00      0.33      0.50         3\n",
      "      Modern       0.67      1.00      0.80         4\n",
      "\n",
      "    accuracy                           0.71         7\n",
      "   macro avg       0.83      0.67      0.65         7\n",
      "weighted avg       0.81      0.71      0.67         7\n",
      "\n",
      "Epoch 7/25 | loss=0.6098 acc=0.667 f1=0.644 | val_acc=0.714 val_f1=0.650 | 0.3s\n"
     ]
    },
    {
     "name": "stderr",
     "output_type": "stream",
     "text": [
      "/home/daniel/.local/lib/python3.13/site-packages/torch/utils/data/dataloader.py:665: UserWarning: 'pin_memory' argument is set as true but no accelerator is found, then device pinned memory won't be used.\n",
      "  warnings.warn(warn_msg)\n",
      "/home/daniel/.local/lib/python3.13/site-packages/torch/utils/data/dataloader.py:665: UserWarning: 'pin_memory' argument is set as true but no accelerator is found, then device pinned memory won't be used.\n",
      "  warnings.warn(warn_msg)\n"
     ]
    },
    {
     "name": "stdout",
     "output_type": "stream",
     "text": [
      "Classification Report:\n",
      "               precision    recall  f1-score   support\n",
      "\n",
      "      Legacy       1.00      0.33      0.50         3\n",
      "      Modern       0.67      1.00      0.80         4\n",
      "\n",
      "    accuracy                           0.71         7\n",
      "   macro avg       0.83      0.67      0.65         7\n",
      "weighted avg       0.81      0.71      0.67         7\n",
      "\n",
      "Epoch 8/25 | loss=0.6082 acc=0.625 f1=0.608 | val_acc=0.714 val_f1=0.650 | 0.3s\n"
     ]
    },
    {
     "name": "stderr",
     "output_type": "stream",
     "text": [
      "/home/daniel/.local/lib/python3.13/site-packages/torch/utils/data/dataloader.py:665: UserWarning: 'pin_memory' argument is set as true but no accelerator is found, then device pinned memory won't be used.\n",
      "  warnings.warn(warn_msg)\n",
      "/home/daniel/.local/lib/python3.13/site-packages/torch/utils/data/dataloader.py:665: UserWarning: 'pin_memory' argument is set as true but no accelerator is found, then device pinned memory won't be used.\n",
      "  warnings.warn(warn_msg)\n"
     ]
    },
    {
     "name": "stdout",
     "output_type": "stream",
     "text": [
      "Classification Report:\n",
      "               precision    recall  f1-score   support\n",
      "\n",
      "      Legacy       1.00      0.33      0.50         3\n",
      "      Modern       0.67      1.00      0.80         4\n",
      "\n",
      "    accuracy                           0.71         7\n",
      "   macro avg       0.83      0.67      0.65         7\n",
      "weighted avg       0.81      0.71      0.67         7\n",
      "\n",
      "Epoch 9/25 | loss=0.5891 acc=0.667 f1=0.644 | val_acc=0.714 val_f1=0.650 | 0.3s\n"
     ]
    },
    {
     "name": "stderr",
     "output_type": "stream",
     "text": [
      "/home/daniel/.local/lib/python3.13/site-packages/torch/utils/data/dataloader.py:665: UserWarning: 'pin_memory' argument is set as true but no accelerator is found, then device pinned memory won't be used.\n",
      "  warnings.warn(warn_msg)\n",
      "/home/daniel/.local/lib/python3.13/site-packages/torch/utils/data/dataloader.py:665: UserWarning: 'pin_memory' argument is set as true but no accelerator is found, then device pinned memory won't be used.\n",
      "  warnings.warn(warn_msg)\n"
     ]
    },
    {
     "name": "stdout",
     "output_type": "stream",
     "text": [
      "Classification Report:\n",
      "               precision    recall  f1-score   support\n",
      "\n",
      "      Legacy       1.00      0.33      0.50         3\n",
      "      Modern       0.67      1.00      0.80         4\n",
      "\n",
      "    accuracy                           0.71         7\n",
      "   macro avg       0.83      0.67      0.65         7\n",
      "weighted avg       0.81      0.71      0.67         7\n",
      "\n",
      "Epoch 10/25 | loss=0.6163 acc=0.667 f1=0.644 | val_acc=0.714 val_f1=0.650 | 0.3s\n"
     ]
    },
    {
     "name": "stderr",
     "output_type": "stream",
     "text": [
      "/home/daniel/.local/lib/python3.13/site-packages/torch/utils/data/dataloader.py:665: UserWarning: 'pin_memory' argument is set as true but no accelerator is found, then device pinned memory won't be used.\n",
      "  warnings.warn(warn_msg)\n",
      "/home/daniel/.local/lib/python3.13/site-packages/torch/utils/data/dataloader.py:665: UserWarning: 'pin_memory' argument is set as true but no accelerator is found, then device pinned memory won't be used.\n",
      "  warnings.warn(warn_msg)\n"
     ]
    },
    {
     "name": "stdout",
     "output_type": "stream",
     "text": [
      "Classification Report:\n",
      "               precision    recall  f1-score   support\n",
      "\n",
      "      Legacy       1.00      0.33      0.50         3\n",
      "      Modern       0.67      1.00      0.80         4\n",
      "\n",
      "    accuracy                           0.71         7\n",
      "   macro avg       0.83      0.67      0.65         7\n",
      "weighted avg       0.81      0.71      0.67         7\n",
      "\n",
      "Epoch 11/25 | loss=0.6115 acc=0.667 f1=0.644 | val_acc=0.714 val_f1=0.650 | 0.2s\n"
     ]
    },
    {
     "name": "stderr",
     "output_type": "stream",
     "text": [
      "/home/daniel/.local/lib/python3.13/site-packages/torch/utils/data/dataloader.py:665: UserWarning: 'pin_memory' argument is set as true but no accelerator is found, then device pinned memory won't be used.\n",
      "  warnings.warn(warn_msg)\n",
      "/home/daniel/.local/lib/python3.13/site-packages/torch/utils/data/dataloader.py:665: UserWarning: 'pin_memory' argument is set as true but no accelerator is found, then device pinned memory won't be used.\n",
      "  warnings.warn(warn_msg)\n"
     ]
    },
    {
     "name": "stdout",
     "output_type": "stream",
     "text": [
      "Classification Report:\n",
      "               precision    recall  f1-score   support\n",
      "\n",
      "      Legacy       1.00      0.33      0.50         3\n",
      "      Modern       0.67      1.00      0.80         4\n",
      "\n",
      "    accuracy                           0.71         7\n",
      "   macro avg       0.83      0.67      0.65         7\n",
      "weighted avg       0.81      0.71      0.67         7\n",
      "\n",
      "Epoch 12/25 | loss=0.6058 acc=0.667 f1=0.644 | val_acc=0.714 val_f1=0.650 | 0.3s\n"
     ]
    },
    {
     "name": "stderr",
     "output_type": "stream",
     "text": [
      "/home/daniel/.local/lib/python3.13/site-packages/torch/utils/data/dataloader.py:665: UserWarning: 'pin_memory' argument is set as true but no accelerator is found, then device pinned memory won't be used.\n",
      "  warnings.warn(warn_msg)\n",
      "/home/daniel/.local/lib/python3.13/site-packages/torch/utils/data/dataloader.py:665: UserWarning: 'pin_memory' argument is set as true but no accelerator is found, then device pinned memory won't be used.\n",
      "  warnings.warn(warn_msg)\n"
     ]
    },
    {
     "name": "stdout",
     "output_type": "stream",
     "text": [
      "Classification Report:\n",
      "               precision    recall  f1-score   support\n",
      "\n",
      "      Legacy       1.00      0.67      0.80         3\n",
      "      Modern       0.80      1.00      0.89         4\n",
      "\n",
      "    accuracy                           0.86         7\n",
      "   macro avg       0.90      0.83      0.84         7\n",
      "weighted avg       0.89      0.86      0.85         7\n",
      "\n",
      "Epoch 13/25 | loss=0.6064 acc=0.667 f1=0.644 | val_acc=0.857 val_f1=0.844 | 0.4s\n",
      "✓ Saved best model -> best_cnn.pth\n"
     ]
    },
    {
     "name": "stderr",
     "output_type": "stream",
     "text": [
      "/home/daniel/.local/lib/python3.13/site-packages/torch/utils/data/dataloader.py:665: UserWarning: 'pin_memory' argument is set as true but no accelerator is found, then device pinned memory won't be used.\n",
      "  warnings.warn(warn_msg)\n",
      "/home/daniel/.local/lib/python3.13/site-packages/torch/utils/data/dataloader.py:665: UserWarning: 'pin_memory' argument is set as true but no accelerator is found, then device pinned memory won't be used.\n",
      "  warnings.warn(warn_msg)\n"
     ]
    },
    {
     "name": "stdout",
     "output_type": "stream",
     "text": [
      "Classification Report:\n",
      "               precision    recall  f1-score   support\n",
      "\n",
      "      Legacy       1.00      0.33      0.50         3\n",
      "      Modern       0.67      1.00      0.80         4\n",
      "\n",
      "    accuracy                           0.71         7\n",
      "   macro avg       0.83      0.67      0.65         7\n",
      "weighted avg       0.81      0.71      0.67         7\n",
      "\n",
      "Epoch 14/25 | loss=0.5950 acc=0.667 f1=0.644 | val_acc=0.714 val_f1=0.650 | 0.3s\n"
     ]
    },
    {
     "name": "stderr",
     "output_type": "stream",
     "text": [
      "/home/daniel/.local/lib/python3.13/site-packages/torch/utils/data/dataloader.py:665: UserWarning: 'pin_memory' argument is set as true but no accelerator is found, then device pinned memory won't be used.\n",
      "  warnings.warn(warn_msg)\n",
      "/home/daniel/.local/lib/python3.13/site-packages/torch/utils/data/dataloader.py:665: UserWarning: 'pin_memory' argument is set as true but no accelerator is found, then device pinned memory won't be used.\n",
      "  warnings.warn(warn_msg)\n"
     ]
    },
    {
     "name": "stdout",
     "output_type": "stream",
     "text": [
      "Classification Report:\n",
      "               precision    recall  f1-score   support\n",
      "\n",
      "      Legacy       1.00      0.33      0.50         3\n",
      "      Modern       0.67      1.00      0.80         4\n",
      "\n",
      "    accuracy                           0.71         7\n",
      "   macro avg       0.83      0.67      0.65         7\n",
      "weighted avg       0.81      0.71      0.67         7\n",
      "\n",
      "Epoch 15/25 | loss=0.6089 acc=0.667 f1=0.644 | val_acc=0.714 val_f1=0.650 | 0.3s\n"
     ]
    },
    {
     "name": "stderr",
     "output_type": "stream",
     "text": [
      "/home/daniel/.local/lib/python3.13/site-packages/torch/utils/data/dataloader.py:665: UserWarning: 'pin_memory' argument is set as true but no accelerator is found, then device pinned memory won't be used.\n",
      "  warnings.warn(warn_msg)\n",
      "/home/daniel/.local/lib/python3.13/site-packages/torch/utils/data/dataloader.py:665: UserWarning: 'pin_memory' argument is set as true but no accelerator is found, then device pinned memory won't be used.\n",
      "  warnings.warn(warn_msg)\n"
     ]
    },
    {
     "name": "stdout",
     "output_type": "stream",
     "text": [
      "Classification Report:\n",
      "               precision    recall  f1-score   support\n",
      "\n",
      "      Legacy       1.00      0.33      0.50         3\n",
      "      Modern       0.67      1.00      0.80         4\n",
      "\n",
      "    accuracy                           0.71         7\n",
      "   macro avg       0.83      0.67      0.65         7\n",
      "weighted avg       0.81      0.71      0.67         7\n",
      "\n",
      "Epoch 16/25 | loss=0.6051 acc=0.667 f1=0.644 | val_acc=0.714 val_f1=0.650 | 0.3s\n"
     ]
    },
    {
     "name": "stderr",
     "output_type": "stream",
     "text": [
      "/home/daniel/.local/lib/python3.13/site-packages/torch/utils/data/dataloader.py:665: UserWarning: 'pin_memory' argument is set as true but no accelerator is found, then device pinned memory won't be used.\n",
      "  warnings.warn(warn_msg)\n",
      "/home/daniel/.local/lib/python3.13/site-packages/torch/utils/data/dataloader.py:665: UserWarning: 'pin_memory' argument is set as true but no accelerator is found, then device pinned memory won't be used.\n",
      "  warnings.warn(warn_msg)\n"
     ]
    },
    {
     "name": "stdout",
     "output_type": "stream",
     "text": [
      "Classification Report:\n",
      "               precision    recall  f1-score   support\n",
      "\n",
      "      Legacy       1.00      0.33      0.50         3\n",
      "      Modern       0.67      1.00      0.80         4\n",
      "\n",
      "    accuracy                           0.71         7\n",
      "   macro avg       0.83      0.67      0.65         7\n",
      "weighted avg       0.81      0.71      0.67         7\n",
      "\n",
      "Epoch 17/25 | loss=0.5968 acc=0.667 f1=0.644 | val_acc=0.714 val_f1=0.650 | 0.2s\n"
     ]
    },
    {
     "name": "stderr",
     "output_type": "stream",
     "text": [
      "/home/daniel/.local/lib/python3.13/site-packages/torch/utils/data/dataloader.py:665: UserWarning: 'pin_memory' argument is set as true but no accelerator is found, then device pinned memory won't be used.\n",
      "  warnings.warn(warn_msg)\n",
      "/home/daniel/.local/lib/python3.13/site-packages/torch/utils/data/dataloader.py:665: UserWarning: 'pin_memory' argument is set as true but no accelerator is found, then device pinned memory won't be used.\n",
      "  warnings.warn(warn_msg)\n"
     ]
    },
    {
     "name": "stdout",
     "output_type": "stream",
     "text": [
      "Classification Report:\n",
      "               precision    recall  f1-score   support\n",
      "\n",
      "      Legacy       1.00      0.67      0.80         3\n",
      "      Modern       0.80      1.00      0.89         4\n",
      "\n",
      "    accuracy                           0.86         7\n",
      "   macro avg       0.90      0.83      0.84         7\n",
      "weighted avg       0.89      0.86      0.85         7\n",
      "\n",
      "Epoch 18/25 | loss=0.6275 acc=0.625 f1=0.608 | val_acc=0.857 val_f1=0.844 | 0.2s\n"
     ]
    },
    {
     "name": "stderr",
     "output_type": "stream",
     "text": [
      "/home/daniel/.local/lib/python3.13/site-packages/torch/utils/data/dataloader.py:665: UserWarning: 'pin_memory' argument is set as true but no accelerator is found, then device pinned memory won't be used.\n",
      "  warnings.warn(warn_msg)\n",
      "/home/daniel/.local/lib/python3.13/site-packages/torch/utils/data/dataloader.py:665: UserWarning: 'pin_memory' argument is set as true but no accelerator is found, then device pinned memory won't be used.\n",
      "  warnings.warn(warn_msg)\n"
     ]
    },
    {
     "name": "stdout",
     "output_type": "stream",
     "text": [
      "Classification Report:\n",
      "               precision    recall  f1-score   support\n",
      "\n",
      "      Legacy       1.00      0.33      0.50         3\n",
      "      Modern       0.67      1.00      0.80         4\n",
      "\n",
      "    accuracy                           0.71         7\n",
      "   macro avg       0.83      0.67      0.65         7\n",
      "weighted avg       0.81      0.71      0.67         7\n",
      "\n",
      "Epoch 19/25 | loss=0.5921 acc=0.625 f1=0.608 | val_acc=0.714 val_f1=0.650 | 0.3s\n"
     ]
    },
    {
     "name": "stderr",
     "output_type": "stream",
     "text": [
      "/home/daniel/.local/lib/python3.13/site-packages/torch/utils/data/dataloader.py:665: UserWarning: 'pin_memory' argument is set as true but no accelerator is found, then device pinned memory won't be used.\n",
      "  warnings.warn(warn_msg)\n",
      "/home/daniel/.local/lib/python3.13/site-packages/torch/utils/data/dataloader.py:665: UserWarning: 'pin_memory' argument is set as true but no accelerator is found, then device pinned memory won't be used.\n",
      "  warnings.warn(warn_msg)\n"
     ]
    },
    {
     "name": "stdout",
     "output_type": "stream",
     "text": [
      "Classification Report:\n",
      "               precision    recall  f1-score   support\n",
      "\n",
      "      Legacy       1.00      0.33      0.50         3\n",
      "      Modern       0.67      1.00      0.80         4\n",
      "\n",
      "    accuracy                           0.71         7\n",
      "   macro avg       0.83      0.67      0.65         7\n",
      "weighted avg       0.81      0.71      0.67         7\n",
      "\n",
      "Epoch 20/25 | loss=0.6065 acc=0.667 f1=0.644 | val_acc=0.714 val_f1=0.650 | 0.3s\n"
     ]
    },
    {
     "name": "stderr",
     "output_type": "stream",
     "text": [
      "/home/daniel/.local/lib/python3.13/site-packages/torch/utils/data/dataloader.py:665: UserWarning: 'pin_memory' argument is set as true but no accelerator is found, then device pinned memory won't be used.\n",
      "  warnings.warn(warn_msg)\n",
      "/home/daniel/.local/lib/python3.13/site-packages/torch/utils/data/dataloader.py:665: UserWarning: 'pin_memory' argument is set as true but no accelerator is found, then device pinned memory won't be used.\n",
      "  warnings.warn(warn_msg)\n"
     ]
    },
    {
     "name": "stdout",
     "output_type": "stream",
     "text": [
      "Classification Report:\n",
      "               precision    recall  f1-score   support\n",
      "\n",
      "      Legacy       1.00      0.33      0.50         3\n",
      "      Modern       0.67      1.00      0.80         4\n",
      "\n",
      "    accuracy                           0.71         7\n",
      "   macro avg       0.83      0.67      0.65         7\n",
      "weighted avg       0.81      0.71      0.67         7\n",
      "\n",
      "Epoch 21/25 | loss=0.5971 acc=0.667 f1=0.644 | val_acc=0.714 val_f1=0.650 | 0.3s\n"
     ]
    },
    {
     "name": "stderr",
     "output_type": "stream",
     "text": [
      "/home/daniel/.local/lib/python3.13/site-packages/torch/utils/data/dataloader.py:665: UserWarning: 'pin_memory' argument is set as true but no accelerator is found, then device pinned memory won't be used.\n",
      "  warnings.warn(warn_msg)\n",
      "/home/daniel/.local/lib/python3.13/site-packages/torch/utils/data/dataloader.py:665: UserWarning: 'pin_memory' argument is set as true but no accelerator is found, then device pinned memory won't be used.\n",
      "  warnings.warn(warn_msg)\n"
     ]
    },
    {
     "name": "stdout",
     "output_type": "stream",
     "text": [
      "Classification Report:\n",
      "               precision    recall  f1-score   support\n",
      "\n",
      "      Legacy       1.00      0.33      0.50         3\n",
      "      Modern       0.67      1.00      0.80         4\n",
      "\n",
      "    accuracy                           0.71         7\n",
      "   macro avg       0.83      0.67      0.65         7\n",
      "weighted avg       0.81      0.71      0.67         7\n",
      "\n",
      "Epoch 22/25 | loss=0.5894 acc=0.667 f1=0.644 | val_acc=0.714 val_f1=0.650 | 0.2s\n"
     ]
    },
    {
     "name": "stderr",
     "output_type": "stream",
     "text": [
      "/home/daniel/.local/lib/python3.13/site-packages/torch/utils/data/dataloader.py:665: UserWarning: 'pin_memory' argument is set as true but no accelerator is found, then device pinned memory won't be used.\n",
      "  warnings.warn(warn_msg)\n",
      "/home/daniel/.local/lib/python3.13/site-packages/torch/utils/data/dataloader.py:665: UserWarning: 'pin_memory' argument is set as true but no accelerator is found, then device pinned memory won't be used.\n",
      "  warnings.warn(warn_msg)\n"
     ]
    },
    {
     "name": "stdout",
     "output_type": "stream",
     "text": [
      "Classification Report:\n",
      "               precision    recall  f1-score   support\n",
      "\n",
      "      Legacy       1.00      0.33      0.50         3\n",
      "      Modern       0.67      1.00      0.80         4\n",
      "\n",
      "    accuracy                           0.71         7\n",
      "   macro avg       0.83      0.67      0.65         7\n",
      "weighted avg       0.81      0.71      0.67         7\n",
      "\n",
      "Epoch 23/25 | loss=0.6068 acc=0.667 f1=0.644 | val_acc=0.714 val_f1=0.650 | 0.3s\n"
     ]
    },
    {
     "name": "stderr",
     "output_type": "stream",
     "text": [
      "/home/daniel/.local/lib/python3.13/site-packages/torch/utils/data/dataloader.py:665: UserWarning: 'pin_memory' argument is set as true but no accelerator is found, then device pinned memory won't be used.\n",
      "  warnings.warn(warn_msg)\n",
      "/home/daniel/.local/lib/python3.13/site-packages/torch/utils/data/dataloader.py:665: UserWarning: 'pin_memory' argument is set as true but no accelerator is found, then device pinned memory won't be used.\n",
      "  warnings.warn(warn_msg)\n"
     ]
    },
    {
     "name": "stdout",
     "output_type": "stream",
     "text": [
      "Classification Report:\n",
      "               precision    recall  f1-score   support\n",
      "\n",
      "      Legacy       1.00      0.67      0.80         3\n",
      "      Modern       0.80      1.00      0.89         4\n",
      "\n",
      "    accuracy                           0.86         7\n",
      "   macro avg       0.90      0.83      0.84         7\n",
      "weighted avg       0.89      0.86      0.85         7\n",
      "\n",
      "Epoch 24/25 | loss=0.5837 acc=0.667 f1=0.644 | val_acc=0.857 val_f1=0.844 | 0.3s\n"
     ]
    },
    {
     "name": "stderr",
     "output_type": "stream",
     "text": [
      "/home/daniel/.local/lib/python3.13/site-packages/torch/utils/data/dataloader.py:665: UserWarning: 'pin_memory' argument is set as true but no accelerator is found, then device pinned memory won't be used.\n",
      "  warnings.warn(warn_msg)\n",
      "/home/daniel/.local/lib/python3.13/site-packages/torch/utils/data/dataloader.py:665: UserWarning: 'pin_memory' argument is set as true but no accelerator is found, then device pinned memory won't be used.\n",
      "  warnings.warn(warn_msg)\n"
     ]
    },
    {
     "name": "stdout",
     "output_type": "stream",
     "text": [
      "Classification Report:\n",
      "               precision    recall  f1-score   support\n",
      "\n",
      "      Legacy       1.00      0.33      0.50         3\n",
      "      Modern       0.67      1.00      0.80         4\n",
      "\n",
      "    accuracy                           0.71         7\n",
      "   macro avg       0.83      0.67      0.65         7\n",
      "weighted avg       0.81      0.71      0.67         7\n",
      "\n",
      "Epoch 25/25 | loss=0.6024 acc=0.625 f1=0.608 | val_acc=0.714 val_f1=0.650 | 0.3s\n"
     ]
    },
    {
     "data": {
      "image/png": "[encoded data removed]",
      "text/plain": [
       "<Figure size 600x500 with 2 Axes>"
      ]
     },
     "metadata": {},
     "output_type": "display_data"
    }
   ],
   "source": [
    "NUM_EPOCHS = 25  # Set number of epochs for training\n",
    "best_val_acc = 0.0\n",
    "\n",
    "for epoch_idx in range(1, NUM_EPOCHS + 1):\n",
    "    start_time = time.time()\n",
    "\n",
    "    train_loss_epoch, train_acc_epoch, train_f1_epoch = train_one_epoch(\n",
    "        model,\n",
    "        train_loader,\n",
    "        use_ai=True,\n",
    "        ai_weight=0.3,\n",
    "        ai_sample_prob=0.3,\n",
    "        ai_max_calls_per_batch=8\n",
    "    )\n",
    "\n",
    "    val_acc_epoch, val_f1_epoch, conf_mat = evaluate(model, test_loader)\n",
    "    elapsed_s = time.time() - start_time\n",
    "\n",
    "    print(\n",
    "        f\"Epoch {epoch_idx}/{NUM_EPOCHS} | \"\n",
    "        f\"loss={train_loss_epoch:.4f} acc={train_acc_epoch:.3f} f1={train_f1_epoch:.3f} | \"\n",
    "        f\"val_acc={val_acc_epoch:.3f} val_f1={val_f1_epoch:.3f} | {elapsed_s:.1f}s\"\n",
    "    )\n",
    "\n",
    "    if val_acc_epoch > best_val_acc:\n",
    "        best_val_acc = val_acc_epoch\n",
    "        torch.save({\"model\": model.state_dict(), \"classes\": classes}, \"best_cnn.pth\")\n",
    "        print(\"✓ Saved best model -> best_cnn.pth\")\n",
    "\n",
    "plot_confusion_matrix(\n",
    "    conf_mat,\n",
    "    classes,\n",
    "    title=f\"AI Integration Confusion Matrix (Acc={val_acc_epoch:.2f}, F1={val_f1_epoch:.2f})\"\n",
    ")"
   ]
  }
 ],
 "metadata": {
  "kernelspec": {
   "display_name": "base",
   "language": "python",
   "name": "python3"
  },
  "language_info": {
   "codemirror_mode": {
    "name": "ipython",
    "version": 3
   },
   "file_extension": ".py",
   "mimetype": "text/x-python",
   "name": "python",
   "nbconvert_exporter": "python",
   "pygments_lexer": "ipython3",
   "version": "3.13.2"
  }
 },
 "nbformat": 4,
 "nbformat_minor": 2
}
