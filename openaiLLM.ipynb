{
  "nbformat": 4,
  "nbformat_minor": 0,
  "metadata": {
    "colab": {
      "provenance": [],
      "authorship_tag": "ABX9TyPG9O89lqOyyzNBn36BTmim",
      "include_colab_link": true
    },
    "kernelspec": {
      "name": "python3",
      "display_name": "Python 3"
    },
    "language_info": {
      "name": "python"
    }
  },
  "cells": [
    {
      "cell_type": "markdown",
      "metadata": {
        "id": "view-in-github",
        "colab_type": "text"
      },
      "source": [
        "<a href=\"https://colab.research.google.com/github/danoruo1/DOE-AI-Research/blob/main/openaiLLM.ipynb\" target=\"_parent\"><img src=\"https://colab.research.google.com/assets/colab-badge.svg\" alt=\"Open In Colab\"/></a>"
      ]
    },
    {
      "cell_type": "markdown",
      "source": [
        "### Importing Necessary Modules"
      ],
      "metadata": {
        "id": "IzCeXrTQ705I"
      }
    },
    {
      "cell_type": "code",
      "source": [
        "!pip install openai pandas"
      ],
      "metadata": {
        "id": "_AzR0YZP76p5"
      },
      "execution_count": null,
      "outputs": []
    },
    {
      "cell_type": "markdown",
      "source": [
        "### Importing Modules"
      ],
      "metadata": {
        "id": "7zlsxsM_787v"
      }
    },
    {
      "cell_type": "code",
      "source": [],
      "metadata": {
        "id": "fYhYaQej8BzU"
      },
      "execution_count": null,
      "outputs": []
    },
    {
      "cell_type": "markdown",
      "source": [
        "### Load Data"
      ],
      "metadata": {
        "id": "PNogyBwB8CZX"
      }
    },
    {
      "cell_type": "code",
      "source": [],
      "metadata": {
        "id": "vtE7h5Cj8D7O"
      },
      "execution_count": null,
      "outputs": []
    },
    {
      "cell_type": "markdown",
      "source": [
        "### Initialize LLM"
      ],
      "metadata": {
        "id": "3Z6-Cvys8Fhz"
      }
    },
    {
      "cell_type": "code",
      "source": [],
      "metadata": {
        "id": "2Jcf-yQ48I0a"
      },
      "execution_count": null,
      "outputs": []
    },
    {
      "cell_type": "markdown",
      "source": [
        "### Prompt the LLM"
      ],
      "metadata": {
        "id": "pDlzE49v8Jb6"
      }
    },
    {
      "cell_type": "code",
      "source": [],
      "metadata": {
        "id": "vkblu3ld8O7j"
      },
      "execution_count": null,
      "outputs": []
    }
  ]
}